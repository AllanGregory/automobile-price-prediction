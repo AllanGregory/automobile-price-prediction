{
 "cells": [
  {
   "cell_type": "markdown",
   "metadata": {},
   "source": [
    "# MBA FIAP Inteligência Artificial & Machine Learning\n",
    "\n",
    "## Programando IA com Python\n",
    "## Projeto Final: Estimando Preços de Automóveis Utilizando Modelos de Regressão\n",
    "\n",
    "Este projeto final tem como objetivo explorar os conhecimentos adquiridos nas aulas práticas. Por meio uma trilha guiada para construir um classificador que permitirá predizer o valor de um automóvel baseado em algumas características que cada grupo deverá escolher.\n",
    "\n",
    "Este projeto poderá ser feita por grupos de até 4 pessoas.\n",
    "\n",
    "| Nome dos Integrantes     | RM            | Turma |\n",
    "| :----------------------- | :------------- | :-----: |\n",
    "| Allan Gregory Gilabel           | RM 330158     | `1IA` |\n",
    "| Douglas Gomes Modesto           | RM 330217     | `1IA` |\n",
    "| Jonas Pereira Prado de Lima     | RM 330323     | `1IA` |\n",
    "| Liliane Vieira Scandoleiro      | RM 330672     | `1IA` |\n",
    "\n",
    "Por ser um projeto guiado, fique atento quando houver as marcações **Implementação** indica que é necessário realizar alguma implementação em Python no bloco a seguir onde há a inscrição ```##IMPLEMENTAR``` e **Resposta** indica que é esperado uma resposta objetiva relacionado a algum questionamento. Cada grupo pode utilizar nas respostas objetivas quaisquer itens necessários que enriqueçam seu ponto vista, como gráficos e, até mesmo, trechos de código-fonte.\n",
    "\n",
    "Pode-se utilizar quantos blocos forem necessários para realizar determinadas implementações ou utilizá-las para justificar as respostas. Não é obrigatório utilizar somente o bloco indicado.\n",
    "\n",
    "Ao final não se esqueça de subir os arquivos do projeto nas contas do GitHub de cada membro, ou subir na do representante do grupo e os membros realizarem o fork do projeto.\n",
    "\n",
    "A avaliação terá mais ênfase nos seguintes tópicos de desenvolvimento do projeto:\n",
    " \n",
    "1. __Exploração de Dados__\n",
    "2. __Preparação de Dados__\n",
    "3. __Desenvolvimento do Modelo__\n",
    "4. __Treinamento e Teste do Modelo__\n",
    "5. __Validação e Otimização do Modelo__\n",
    "6. __Conclusões Finais__"
   ]
  },
  {
   "cell_type": "markdown",
   "metadata": {},
   "source": [
    "## Exploração de Dados"
   ]
  },
  {
   "cell_type": "markdown",
   "metadata": {},
   "source": [
    "Os dados que serão utilizados foram modificados para propocionar uma experiência que explore melhor as técnicas de processamento e preparação de dados aprendidas.\n",
    "\n",
    "Originalmente os dados foram extraídos do Kaggle deste [dataset](https://www.kaggle.com/nisargpatel/automobiles/data)."
   ]
  },
  {
   "cell_type": "markdown",
   "metadata": {},
   "source": [
    "**Implementação** \n",
    "\n",
    "Carregue o dataset \"automobile-mod.csv\" que se encontra na pasta \"data\" e faça uma inspeção nas 10 primeiras linhas para identificação básica dos atributos.\n",
    "\n",
    "O dataset oroginal \"automobile.csv\" se encontra na mesma pasta apenas como referência. Não deverá ser utilizado.\n",
    "\n",
    "__Atualizado em 16/07/2017__"
   ]
  },
  {
   "cell_type": "code",
   "execution_count": 1,
   "metadata": {},
   "outputs": [],
   "source": [
    "import seaborn as sns\n",
    "import matplotlib.pyplot as plt\n",
    "import pandas as pd\n",
    "import numpy as np\n",
    "from sklearn.preprocessing import LabelEncoder\n",
    "%matplotlib inline"
   ]
  },
  {
   "cell_type": "code",
   "execution_count": 2,
   "metadata": {},
   "outputs": [
    {
     "data": {
      "text/html": [
       "<div>\n",
       "<style scoped>\n",
       "    .dataframe tbody tr th:only-of-type {\n",
       "        vertical-align: middle;\n",
       "    }\n",
       "\n",
       "    .dataframe tbody tr th {\n",
       "        vertical-align: top;\n",
       "    }\n",
       "\n",
       "    .dataframe thead th {\n",
       "        text-align: right;\n",
       "    }\n",
       "</style>\n",
       "<table border=\"1\" class=\"dataframe\">\n",
       "  <thead>\n",
       "    <tr style=\"text-align: right;\">\n",
       "      <th></th>\n",
       "      <th>make</th>\n",
       "      <th>fuel_type</th>\n",
       "      <th>aspiration</th>\n",
       "      <th>number_of_doors</th>\n",
       "      <th>body_style</th>\n",
       "      <th>drive_wheels</th>\n",
       "      <th>engine_location</th>\n",
       "      <th>wheel_base</th>\n",
       "      <th>length</th>\n",
       "      <th>width</th>\n",
       "      <th>...</th>\n",
       "      <th>engine_size</th>\n",
       "      <th>fuel_system</th>\n",
       "      <th>bore</th>\n",
       "      <th>stroke</th>\n",
       "      <th>compression_ratio</th>\n",
       "      <th>horsepower</th>\n",
       "      <th>peak_rpm</th>\n",
       "      <th>city_mpg</th>\n",
       "      <th>highway_mpg</th>\n",
       "      <th>price</th>\n",
       "    </tr>\n",
       "  </thead>\n",
       "  <tbody>\n",
       "    <tr>\n",
       "      <th>0</th>\n",
       "      <td>alfa-romero</td>\n",
       "      <td>gas</td>\n",
       "      <td>std</td>\n",
       "      <td>two</td>\n",
       "      <td>convertible</td>\n",
       "      <td>rwd</td>\n",
       "      <td>front</td>\n",
       "      <td>88.6</td>\n",
       "      <td>168.8</td>\n",
       "      <td>64.1</td>\n",
       "      <td>...</td>\n",
       "      <td>130</td>\n",
       "      <td>mpfi</td>\n",
       "      <td>3.47</td>\n",
       "      <td>2.68</td>\n",
       "      <td>9.0</td>\n",
       "      <td>111</td>\n",
       "      <td>5000.0</td>\n",
       "      <td>21.0</td>\n",
       "      <td>27.0</td>\n",
       "      <td>13495</td>\n",
       "    </tr>\n",
       "    <tr>\n",
       "      <th>1</th>\n",
       "      <td>alfa-romero</td>\n",
       "      <td>gas</td>\n",
       "      <td>std</td>\n",
       "      <td>two</td>\n",
       "      <td>convertible</td>\n",
       "      <td>rwd</td>\n",
       "      <td>front</td>\n",
       "      <td>88.6</td>\n",
       "      <td>168.8</td>\n",
       "      <td>64.1</td>\n",
       "      <td>...</td>\n",
       "      <td>130</td>\n",
       "      <td>mpfi</td>\n",
       "      <td>3.47</td>\n",
       "      <td>2.68</td>\n",
       "      <td>9.0</td>\n",
       "      <td>111</td>\n",
       "      <td>5000.0</td>\n",
       "      <td>21.0</td>\n",
       "      <td>27.0</td>\n",
       "      <td>16500</td>\n",
       "    </tr>\n",
       "    <tr>\n",
       "      <th>2</th>\n",
       "      <td>alfa-romero</td>\n",
       "      <td>gas</td>\n",
       "      <td>std</td>\n",
       "      <td>two</td>\n",
       "      <td>hatchback</td>\n",
       "      <td>rwd</td>\n",
       "      <td>front</td>\n",
       "      <td>94.5</td>\n",
       "      <td>171.2</td>\n",
       "      <td>65.5</td>\n",
       "      <td>...</td>\n",
       "      <td>152</td>\n",
       "      <td>mpfi</td>\n",
       "      <td>2.68</td>\n",
       "      <td>3.47</td>\n",
       "      <td>9.0</td>\n",
       "      <td>154</td>\n",
       "      <td>5000.0</td>\n",
       "      <td>19.0</td>\n",
       "      <td>26.0</td>\n",
       "      <td>16500</td>\n",
       "    </tr>\n",
       "    <tr>\n",
       "      <th>3</th>\n",
       "      <td>audi</td>\n",
       "      <td>gas</td>\n",
       "      <td>std</td>\n",
       "      <td>four</td>\n",
       "      <td>sedan</td>\n",
       "      <td>fwd</td>\n",
       "      <td>front</td>\n",
       "      <td>99.8</td>\n",
       "      <td>176.6</td>\n",
       "      <td>66.2</td>\n",
       "      <td>...</td>\n",
       "      <td>109</td>\n",
       "      <td>mpfi</td>\n",
       "      <td>3.19</td>\n",
       "      <td>3.40</td>\n",
       "      <td>10.0</td>\n",
       "      <td>102</td>\n",
       "      <td>5500.0</td>\n",
       "      <td>24.0</td>\n",
       "      <td>30.0</td>\n",
       "      <td>13950</td>\n",
       "    </tr>\n",
       "    <tr>\n",
       "      <th>4</th>\n",
       "      <td>audi</td>\n",
       "      <td>gas</td>\n",
       "      <td>std</td>\n",
       "      <td>four</td>\n",
       "      <td>sedan</td>\n",
       "      <td>4wd</td>\n",
       "      <td>front</td>\n",
       "      <td>99.4</td>\n",
       "      <td>176.6</td>\n",
       "      <td>66.4</td>\n",
       "      <td>...</td>\n",
       "      <td>136</td>\n",
       "      <td>mpfi</td>\n",
       "      <td>3.19</td>\n",
       "      <td>3.40</td>\n",
       "      <td>8.0</td>\n",
       "      <td>115</td>\n",
       "      <td>5500.0</td>\n",
       "      <td>18.0</td>\n",
       "      <td>22.0</td>\n",
       "      <td>17450</td>\n",
       "    </tr>\n",
       "    <tr>\n",
       "      <th>5</th>\n",
       "      <td>audi</td>\n",
       "      <td>gas</td>\n",
       "      <td>std</td>\n",
       "      <td>two</td>\n",
       "      <td>sedan</td>\n",
       "      <td>fwd</td>\n",
       "      <td>front</td>\n",
       "      <td>99.8</td>\n",
       "      <td>177.3</td>\n",
       "      <td>66.3</td>\n",
       "      <td>...</td>\n",
       "      <td>136</td>\n",
       "      <td>mpfi</td>\n",
       "      <td>3.19</td>\n",
       "      <td>3.40</td>\n",
       "      <td>8.5</td>\n",
       "      <td>110</td>\n",
       "      <td>5500.0</td>\n",
       "      <td>19.0</td>\n",
       "      <td>25.0</td>\n",
       "      <td>15250</td>\n",
       "    </tr>\n",
       "    <tr>\n",
       "      <th>6</th>\n",
       "      <td>audi</td>\n",
       "      <td>gas</td>\n",
       "      <td>std</td>\n",
       "      <td>four</td>\n",
       "      <td>sedan</td>\n",
       "      <td>fwd</td>\n",
       "      <td>front</td>\n",
       "      <td>105.8</td>\n",
       "      <td>192.7</td>\n",
       "      <td>71.4</td>\n",
       "      <td>...</td>\n",
       "      <td>136</td>\n",
       "      <td>mpfi</td>\n",
       "      <td>3.19</td>\n",
       "      <td>3.40</td>\n",
       "      <td>8.5</td>\n",
       "      <td>110</td>\n",
       "      <td>5500.0</td>\n",
       "      <td>19.0</td>\n",
       "      <td>25.0</td>\n",
       "      <td>17710</td>\n",
       "    </tr>\n",
       "    <tr>\n",
       "      <th>7</th>\n",
       "      <td>audi</td>\n",
       "      <td>gas</td>\n",
       "      <td>std</td>\n",
       "      <td>four</td>\n",
       "      <td>wagon</td>\n",
       "      <td>fwd</td>\n",
       "      <td>front</td>\n",
       "      <td>105.8</td>\n",
       "      <td>192.7</td>\n",
       "      <td>71.4</td>\n",
       "      <td>...</td>\n",
       "      <td>136</td>\n",
       "      <td>mpfi</td>\n",
       "      <td>3.19</td>\n",
       "      <td>3.40</td>\n",
       "      <td>8.5</td>\n",
       "      <td>110</td>\n",
       "      <td>5500.0</td>\n",
       "      <td>19.0</td>\n",
       "      <td>25.0</td>\n",
       "      <td>18920</td>\n",
       "    </tr>\n",
       "    <tr>\n",
       "      <th>8</th>\n",
       "      <td>audi</td>\n",
       "      <td>gas</td>\n",
       "      <td>turbo</td>\n",
       "      <td>four</td>\n",
       "      <td>sedan</td>\n",
       "      <td>fwd</td>\n",
       "      <td>front</td>\n",
       "      <td>105.8</td>\n",
       "      <td>192.7</td>\n",
       "      <td>71.4</td>\n",
       "      <td>...</td>\n",
       "      <td>131</td>\n",
       "      <td>mpfi</td>\n",
       "      <td>3.13</td>\n",
       "      <td>3.40</td>\n",
       "      <td>8.3</td>\n",
       "      <td>140</td>\n",
       "      <td>5500.0</td>\n",
       "      <td>17.0</td>\n",
       "      <td>20.0</td>\n",
       "      <td>23875</td>\n",
       "    </tr>\n",
       "    <tr>\n",
       "      <th>9</th>\n",
       "      <td>bmw</td>\n",
       "      <td>gas</td>\n",
       "      <td>std</td>\n",
       "      <td>two</td>\n",
       "      <td>sedan</td>\n",
       "      <td>rwd</td>\n",
       "      <td>front</td>\n",
       "      <td>101.2</td>\n",
       "      <td>176.8</td>\n",
       "      <td>64.8</td>\n",
       "      <td>...</td>\n",
       "      <td>108</td>\n",
       "      <td>mpfi</td>\n",
       "      <td>3.50</td>\n",
       "      <td>2.80</td>\n",
       "      <td>8.8</td>\n",
       "      <td>101</td>\n",
       "      <td>5800.0</td>\n",
       "      <td>23.0</td>\n",
       "      <td>29.0</td>\n",
       "      <td>16430</td>\n",
       "    </tr>\n",
       "  </tbody>\n",
       "</table>\n",
       "<p>10 rows × 24 columns</p>\n",
       "</div>"
      ],
      "text/plain": [
       "          make fuel_type aspiration number_of_doors   body_style drive_wheels  \\\n",
       "0  alfa-romero       gas        std             two  convertible          rwd   \n",
       "1  alfa-romero       gas        std             two  convertible          rwd   \n",
       "2  alfa-romero       gas        std             two    hatchback          rwd   \n",
       "3         audi       gas        std            four        sedan          fwd   \n",
       "4         audi       gas        std            four        sedan          4wd   \n",
       "5         audi       gas        std             two        sedan          fwd   \n",
       "6         audi       gas        std            four        sedan          fwd   \n",
       "7         audi       gas        std            four        wagon          fwd   \n",
       "8         audi       gas      turbo            four        sedan          fwd   \n",
       "9          bmw       gas        std             two        sedan          rwd   \n",
       "\n",
       "  engine_location  wheel_base  length  width  ...    engine_size  fuel_system  \\\n",
       "0           front        88.6   168.8   64.1  ...            130         mpfi   \n",
       "1           front        88.6   168.8   64.1  ...            130         mpfi   \n",
       "2           front        94.5   171.2   65.5  ...            152         mpfi   \n",
       "3           front        99.8   176.6   66.2  ...            109         mpfi   \n",
       "4           front        99.4   176.6   66.4  ...            136         mpfi   \n",
       "5           front        99.8   177.3   66.3  ...            136         mpfi   \n",
       "6           front       105.8   192.7   71.4  ...            136         mpfi   \n",
       "7           front       105.8   192.7   71.4  ...            136         mpfi   \n",
       "8           front       105.8   192.7   71.4  ...            131         mpfi   \n",
       "9           front       101.2   176.8   64.8  ...            108         mpfi   \n",
       "\n",
       "   bore stroke  compression_ratio horsepower  peak_rpm  city_mpg  highway_mpg  \\\n",
       "0  3.47   2.68                9.0        111    5000.0      21.0         27.0   \n",
       "1  3.47   2.68                9.0        111    5000.0      21.0         27.0   \n",
       "2  2.68   3.47                9.0        154    5000.0      19.0         26.0   \n",
       "3  3.19   3.40               10.0        102    5500.0      24.0         30.0   \n",
       "4  3.19   3.40                8.0        115    5500.0      18.0         22.0   \n",
       "5  3.19   3.40                8.5        110    5500.0      19.0         25.0   \n",
       "6  3.19   3.40                8.5        110    5500.0      19.0         25.0   \n",
       "7  3.19   3.40                8.5        110    5500.0      19.0         25.0   \n",
       "8  3.13   3.40                8.3        140    5500.0      17.0         20.0   \n",
       "9  3.50   2.80                8.8        101    5800.0      23.0         29.0   \n",
       "\n",
       "   price  \n",
       "0  13495  \n",
       "1  16500  \n",
       "2  16500  \n",
       "3  13950  \n",
       "4  17450  \n",
       "5  15250  \n",
       "6  17710  \n",
       "7  18920  \n",
       "8  23875  \n",
       "9  16430  \n",
       "\n",
       "[10 rows x 24 columns]"
      ]
     },
     "execution_count": 2,
     "metadata": {},
     "output_type": "execute_result"
    }
   ],
   "source": [
    "df = pd.read_csv('./data/automobile-mod.csv', sep=';')\n",
    "df.head(10)"
   ]
  },
  {
   "cell_type": "raw",
   "metadata": {},
   "source": [
    "Relação das coluna e seu significado:\n",
    "\n",
    "1. make: fabricante\n",
    "2. fuel_type: tipo de combustível\n",
    "3. aspiration: tipo de aspiração do motor, ex. turbo ou padrão (std)\n",
    "4. body_style: estilo do carro, ex. sedan ou hatchback\n",
    "5. drive_wheels: tração do carro, ex. rwd (tração traseira) ou frw (tração dianteira)\n",
    "6. wheel_base: entre-eixos, distância entre o eixo dianteiro e o eixo traseiro\n",
    "7. length: comprimento\n",
    "8. width: largura\n",
    "9. height: altura\n",
    "10. curb_wheight: peso\n",
    "11. engine_type: tipo do motor\n",
    "12. number_of_cylinders: cilindrada, quantidade de cilindros\n",
    "13. engine_size: tamanho do motor\n",
    "14. fuel_system: sistema de injeção\n",
    "15. bore: diâmetro do cilindro\n",
    "16. stroke: diâmetro do pistão\n",
    "17. compression_ratio: razão de compressão\n",
    "18. horsepower: cavalo de força ou HP\n",
    "19. peak_rpm: pico de RPM (rotações por minuto)\n",
    "20. city_mpg: consumo em mpg (milhas por galão) na cidade\n",
    "21. highway_mpg: consumo em mpg (milhas por galão) na estrada\n",
    "22. price: preço (**Variável Alvo**)"
   ]
  },
  {
   "cell_type": "markdown",
   "metadata": {},
   "source": [
    "### Correlacionamento dos atributos"
   ]
  },
  {
   "cell_type": "markdown",
   "metadata": {},
   "source": [
    "Vamos utilizar algumas suposições e validar se elas são verdadeiras, por exemplo, o preço do carro pode variar com seu consumo, tamanho ou força? Vamos explorar estas hipósteses ou outras que o grupo julgue relevante."
   ]
  },
  {
   "cell_type": "code",
   "execution_count": 3,
   "metadata": {},
   "outputs": [
    {
     "data": {
      "text/plain": [
       "<matplotlib.axes._subplots.AxesSubplot at 0x1211b786eb8>"
      ]
     },
     "execution_count": 3,
     "metadata": {},
     "output_type": "execute_result"
    },
    {
     "data": {
      "image/png": "[encoded data removed]",
      "text/plain": [
       "<Figure size 432x288 with 2 Axes>"
      ]
     },
     "metadata": {},
     "output_type": "display_data"
    }
   ],
   "source": [
    "sns.heatmap(df.corr())"
   ]
  },
  {
   "cell_type": "code",
   "execution_count": 4,
   "metadata": {},
   "outputs": [
    {
     "data": {
      "text/plain": [
       "highway_mpg         -0.71\n",
       "city_mpg            -0.66\n",
       "peak_rpm            -0.01\n",
       "compression_ratio    0.07\n",
       "stroke               0.08\n",
       "height               0.14\n",
       "bore                 0.54\n",
       "wheel_base           0.58\n",
       "length               0.69\n",
       "width                0.75\n",
       "horsepower           0.81\n",
       "curb_weight          0.83\n",
       "engine_size          0.87\n",
       "price                1.00\n",
       "Name: price, dtype: float64"
      ]
     },
     "execution_count": 4,
     "metadata": {},
     "output_type": "execute_result"
    }
   ],
   "source": [
    "correlacao = df.corr()\n",
    "correlacao['price'].sort_values().round(2)"
   ]
  },
  {
   "cell_type": "code",
   "execution_count": 5,
   "metadata": {},
   "outputs": [
    {
     "data": {
      "text/plain": [
       "Text(0.5,1,'Preço por Tipo do motor')"
      ]
     },
     "execution_count": 5,
     "metadata": {},
     "output_type": "execute_result"
    },
    {
     "data": {
      "image/png": "[encoded data removed]",
      "text/plain": [
       "<Figure size 360x360 with 1 Axes>"
      ]
     },
     "metadata": {},
     "output_type": "display_data"
    }
   ],
   "source": [
    "sns.lmplot(\"price\", \"engine_size\", df,\n",
    "          scatter_kws={\"marker\":\"x\", \"color\":\"red\"},\n",
    "          line_kws={\"linewidth\":1, \"color\": \"green\"},legend_out = True)\n",
    "ax = plt.gca()\n",
    "ax.set_title(\"Preço por Tipo do motor\")"
   ]
  },
  {
   "cell_type": "code",
   "execution_count": 6,
   "metadata": {},
   "outputs": [
    {
     "data": {
      "text/plain": [
       "Text(0.5,1,'Preço por Peso do automóvel')"
      ]
     },
     "execution_count": 6,
     "metadata": {},
     "output_type": "execute_result"
    },
    {
     "data": {
      "image/png": "[encoded data removed]",
      "text/plain": [
       "<Figure size 360x360 with 1 Axes>"
      ]
     },
     "metadata": {},
     "output_type": "display_data"
    }
   ],
   "source": [
    "sns.lmplot(\"price\", \"curb_weight\", df,\n",
    "          scatter_kws={\"marker\":\"x\", \"color\":\"green\"},\n",
    "          line_kws={\"linewidth\":1, \"color\": \"black\"})\n",
    "ax = plt.gca()\n",
    "ax.set_title(\"Preço por Peso do automóvel\")"
   ]
  },
  {
   "cell_type": "code",
   "execution_count": 7,
   "metadata": {},
   "outputs": [
    {
     "data": {
      "text/plain": [
       "Text(0.5,1,'Preço por Consumo de combustível (estrada)')"
      ]
     },
     "execution_count": 7,
     "metadata": {},
     "output_type": "execute_result"
    },
    {
     "data": {
      "image/png": "[encoded data removed]",
      "text/plain": [
       "<Figure size 360x360 with 1 Axes>"
      ]
     },
     "metadata": {},
     "output_type": "display_data"
    }
   ],
   "source": [
    "sns.lmplot(\"price\", \"highway_mpg\", df,\n",
    "          scatter_kws={\"marker\":\"x\", \"color\":\"blue\"},\n",
    "          line_kws={\"linewidth\":1, \"color\": \"orange\"})\n",
    "ax = plt.gca()\n",
    "ax.set_title(\"Preço por Consumo de combustível (estrada)\")"
   ]
  },
  {
   "cell_type": "code",
   "execution_count": 8,
   "metadata": {},
   "outputs": [
    {
     "data": {
      "text/plain": [
       "Text(0.5,1,'Preço por Força do motor')"
      ]
     },
     "execution_count": 8,
     "metadata": {},
     "output_type": "execute_result"
    },
    {
     "data": {
      "image/png": "[encoded data removed]",
      "text/plain": [
       "<Figure size 360x360 with 1 Axes>"
      ]
     },
     "metadata": {},
     "output_type": "display_data"
    }
   ],
   "source": [
    "sns.lmplot(\"price\", \"horsepower\", df,\n",
    "          scatter_kws={\"marker\":\"x\", \"color\":\"violet\"},\n",
    "          line_kws={\"linewidth\":1, \"color\": \"red\"})\n",
    "ax = plt.gca()\n",
    "ax.set_title(\"Preço por Força do motor\")"
   ]
  },
  {
   "cell_type": "markdown",
   "metadata": {},
   "source": [
    "**Pergunta:** Cite um exemplo de pelo menos os 3 cenários propostos que corroboram a leitura dos dados apresentados, justique sua resposta."
   ]
  },
  {
   "cell_type": "markdown",
   "metadata": {},
   "source": [
    "**Resposta:** O preço do carro está fortemente correlacionado positivamente para o tipo do motor, o peso e a sua força. Ou seja, caso as variáveis associadas aumentem o seu valor, o preço do carro aumentará.\n",
    "Outras duas variáveis relacionadas ao preço, porém de correlação negativa e de menor importância comparado as variáveis citadas anteriormente são o consumo de combustível na cidade e na estrada."
   ]
  },
  {
   "cell_type": "markdown",
   "metadata": {},
   "source": [
    "## Preparação dos Dados"
   ]
  },
  {
   "cell_type": "markdown",
   "metadata": {},
   "source": [
    "### Identificação de Outliers Visualmente"
   ]
  },
  {
   "cell_type": "markdown",
   "metadata": {},
   "source": [
    "Utilize visualizações gráficas para encontrar outliers em todos os atributos deste dataset.\n",
    "Ainda não vamos remover ou atualizar os valores, por enquanto é uma análise exploratória.\n",
    "\n",
    "Lembre-se que cada atributo possui um valor e dimensão diferente, portanto comparações devem estar em uma mesma base, por exemplo, __price__ não pode ser comparado com __width__ pois os eixos __y__ estarão sem proporção."
   ]
  },
  {
   "cell_type": "code",
   "execution_count": 9,
   "metadata": {},
   "outputs": [
    {
     "data": {
      "image/png": "[encoded data removed]",
      "text/plain": [
       "<Figure size 1296x432 with 1 Axes>"
      ]
     },
     "metadata": {},
     "output_type": "display_data"
    }
   ],
   "source": [
    "fig, ax = plt.subplots()\n",
    "fig.set_size_inches(18, 6)\n",
    "sns.boxplot(ax=ax, data=df, y=\"price\", x=\"make\")\n",
    "plt.title('Valor por Marca de Carro')\n",
    "sns.despine()"
   ]
  },
  {
   "cell_type": "code",
   "execution_count": 10,
   "metadata": {},
   "outputs": [
    {
     "data": {
      "image/png": "[encoded data removed]",
      "text/plain": [
       "<Figure size 1296x432 with 1 Axes>"
      ]
     },
     "metadata": {},
     "output_type": "display_data"
    }
   ],
   "source": [
    "fig, ax = plt.subplots()\n",
    "fig.set_size_inches(18, 6)\n",
    "sns.boxplot(ax=ax, data=df, y=\"horsepower\", x=\"engine_type\")\n",
    "plt.title('Força por Cavalo x Tipo de Motor ')\n",
    "sns.despine()"
   ]
  },
  {
   "cell_type": "code",
   "execution_count": 11,
   "metadata": {},
   "outputs": [
    {
     "data": {
      "image/png": "[encoded data removed]",
      "text/plain": [
       "<Figure size 1296x432 with 1 Axes>"
      ]
     },
     "metadata": {},
     "output_type": "display_data"
    }
   ],
   "source": [
    "fig, ax = plt.subplots()\n",
    "fig.set_size_inches(18, 6)\n",
    "sns.boxplot(ax=ax, data=df, y=\"horsepower\", x=\"make\")\n",
    "plt.title('Força por Cavalo x Marca')\n",
    "sns.despine()"
   ]
  },
  {
   "cell_type": "markdown",
   "metadata": {},
   "source": [
    "Antes de explorar melhor as correlações, vamos analisar se há dados discrepante no conjunto de dados. Analisar os dados sem esta análise antes pode nos levar a algum viés indesejado."
   ]
  },
  {
   "cell_type": "markdown",
   "metadata": {},
   "source": [
    "### Análise de valores inválidos"
   ]
  },
  {
   "cell_type": "markdown",
   "metadata": {},
   "source": [
    "Analise e busque por valores considerados nulos."
   ]
  },
  {
   "cell_type": "code",
   "execution_count": 12,
   "metadata": {},
   "outputs": [
    {
     "data": {
      "text/plain": [
       "make                   0\n",
       "fuel_type              0\n",
       "aspiration             0\n",
       "number_of_doors        0\n",
       "body_style             0\n",
       "drive_wheels           0\n",
       "engine_location        0\n",
       "wheel_base             0\n",
       "length                 0\n",
       "width                  0\n",
       "height                 0\n",
       "curb_weight            0\n",
       "engine_type            0\n",
       "number_of_cylinders    0\n",
       "engine_size            0\n",
       "fuel_system            0\n",
       "bore                   0\n",
       "stroke                 0\n",
       "compression_ratio      0\n",
       "horsepower             0\n",
       "peak_rpm               2\n",
       "city_mpg               1\n",
       "highway_mpg            1\n",
       "price                  0\n",
       "dtype: int64"
      ]
     },
     "execution_count": 12,
     "metadata": {},
     "output_type": "execute_result"
    }
   ],
   "source": [
    "df.isnull().sum()"
   ]
  },
  {
   "cell_type": "markdown",
   "metadata": {},
   "source": [
    "Para os dados considerados nulos, realize a imputação de dados utilizando um valor apropriado (note que pode haver dados paramétricos e dados numéricos). Justique sua resposta."
   ]
  },
  {
   "cell_type": "markdown",
   "metadata": {},
   "source": [
    "**Resposta:** Os dados considerados nulos são identificados como contínuas e o tratamento aplicado foi a média dos valores do atributo. A base por possuir poucos dados para se aplicar ao modelo, optamos por não descartá-los, apesar de possuir poucos valores nulos."
   ]
  },
  {
   "cell_type": "code",
   "execution_count": 13,
   "metadata": {},
   "outputs": [],
   "source": [
    "df[[\"peak_rpm\",\"city_mpg\",\"highway_mpg\"]] = df[[\"peak_rpm\",\"city_mpg\",\"highway_mpg\"]].replace(np.nan,df[[\"peak_rpm\",\"city_mpg\",\"highway_mpg\"]].mean())\n"
   ]
  },
  {
   "cell_type": "markdown",
   "metadata": {},
   "source": [
    "### Análise de valores com valores iguais a 0"
   ]
  },
  {
   "cell_type": "markdown",
   "metadata": {},
   "source": [
    "Analise no conjunto de dados se há valores iguais a 0 e verifique se faz parte do contexto. Caso não faça parte do contexto, utilize alguma técnica de imputação de dados apropriada.\n",
    "\n",
    "Inspecione o dataset por dados iguais a 0."
   ]
  },
  {
   "cell_type": "code",
   "execution_count": 14,
   "metadata": {},
   "outputs": [
    {
     "data": {
      "text/plain": [
       "make                   False\n",
       "fuel_type              False\n",
       "aspiration             False\n",
       "number_of_doors        False\n",
       "body_style             False\n",
       "drive_wheels           False\n",
       "engine_location        False\n",
       "wheel_base             False\n",
       "length                 False\n",
       "width                  False\n",
       "height                 False\n",
       "curb_weight            False\n",
       "engine_type            False\n",
       "number_of_cylinders    False\n",
       "engine_size            False\n",
       "fuel_system            False\n",
       "bore                   False\n",
       "stroke                 False\n",
       "compression_ratio      False\n",
       "horsepower             False\n",
       "peak_rpm                True\n",
       "city_mpg                True\n",
       "highway_mpg             True\n",
       "price                  False\n",
       "dtype: bool"
      ]
     },
     "execution_count": 14,
     "metadata": {},
     "output_type": "execute_result"
    }
   ],
   "source": [
    "(df == 0).any()"
   ]
  },
  {
   "cell_type": "markdown",
   "metadata": {},
   "source": [
    "A imputação de dados pode seguir algum padrão dos demais exemplos ou pode ser simplesmente atribuído um valor. Avalie tais condições de acordo com as inspeções de dados."
   ]
  },
  {
   "cell_type": "code",
   "execution_count": 15,
   "metadata": {},
   "outputs": [
    {
     "data": {
      "text/plain": [
       "peak_rpm       False\n",
       "city_mpg       False\n",
       "highway_mpg    False\n",
       "dtype: bool"
      ]
     },
     "execution_count": 15,
     "metadata": {},
     "output_type": "execute_result"
    }
   ],
   "source": [
    "df[[\"peak_rpm\",\"city_mpg\",\"highway_mpg\"]] = df[[\"peak_rpm\",\"city_mpg\",\"highway_mpg\"]].replace(0,df[[\"peak_rpm\",\"city_mpg\",\"highway_mpg\"]].mean())\n",
    "(df[[\"peak_rpm\",\"city_mpg\",\"highway_mpg\"]] == 0).any()"
   ]
  },
  {
   "cell_type": "code",
   "execution_count": 16,
   "metadata": {},
   "outputs": [
    {
     "data": {
      "text/plain": [
       "<function matplotlib.pyplot.plot(*args, **kwargs)>"
      ]
     },
     "execution_count": 16,
     "metadata": {},
     "output_type": "execute_result"
    },
    {
     "data": {
      "image/png": "[encoded data removed]",
      "text/plain": [
       "<Figure size 432x288 with 1 Axes>"
      ]
     },
     "metadata": {},
     "output_type": "display_data"
    }
   ],
   "source": [
    "#Identificando outliers com Turkey boxplot\n",
    "\n",
    "df.boxplot(return_type='dict')\n",
    "plt.plot"
   ]
  },
  {
   "cell_type": "markdown",
   "metadata": {},
   "source": [
    "### Análise Numérica de Outliers"
   ]
  },
  {
   "cell_type": "markdown",
   "metadata": {},
   "source": [
    "Da análise visual de outliers realizada acima vamos utilizar uma métrica de verificação mais apropriada e objetiva afim de criar um patamar aceitável de dados não discrepantes.\n",
    "\n",
    "Neste projeto vamos considerar [o Método Turco para identificar discrepantes](http://datapigtechnologies.com/blog/index.php/highlighting-outliers-in-your-data-with-the-tukey-method/), que utiliza um __passo de limite__ que é 5 vezes (em nosso projeto) a diferença entre o terceiro (Q3) e o primeiro quartil (Q1). Deste modo, valores que sejam maiores que o Q3 + passo de limite ou menor Q2 - passo de limite sejam sinalizados como outliers.\n",
    "\n",
    "Construa uma função que receba como parâmetro de entrada um série de dados e exiba os valores discrepantes. Utilize o boilerplate abaixo para completar as instruções faltantes.\n",
    "\n",
    "*Dica: utilize a função do Numpy de percentil, np.percentile(serie, 25) para quartil 1 e np.percentile(serie, 75) para quartil 3.*"
   ]
  },
  {
   "cell_type": "code",
   "execution_count": 17,
   "metadata": {},
   "outputs": [],
   "source": [
    "def identificacao_outlier(df, column_name): \n",
    "    \n",
    "    Q1 = np.percentile(df[column_name], 25)\n",
    "    Q2 = np.percentile(df[column_name], 50)\n",
    "    Q3 = np.percentile(df[column_name], 75)\n",
    "    \n",
    "    lista_lower = ['Lowers']\n",
    "    lista_upper = ['Uppers']\n",
    "    \n",
    "    passo_limite = ((Q3 - Q1)*5)\n",
    "    \n",
    "    for item in df[column_name]:\n",
    "        if item < (Q2-passo_limite):\n",
    "            lista_lower.append(item)\n",
    "        elif item > (Q3 + passo_limite):\n",
    "            lista_upper.append(item)\n",
    "    \n",
    "    print(column_name)\n",
    "    print(lista_lower)\n",
    "    print(lista_upper)"
   ]
  },
  {
   "cell_type": "code",
   "execution_count": 18,
   "metadata": {},
   "outputs": [
    {
     "data": {
      "text/html": [
       "<div>\n",
       "<style scoped>\n",
       "    .dataframe tbody tr th:only-of-type {\n",
       "        vertical-align: middle;\n",
       "    }\n",
       "\n",
       "    .dataframe tbody tr th {\n",
       "        vertical-align: top;\n",
       "    }\n",
       "\n",
       "    .dataframe thead th {\n",
       "        text-align: right;\n",
       "    }\n",
       "</style>\n",
       "<table border=\"1\" class=\"dataframe\">\n",
       "  <thead>\n",
       "    <tr style=\"text-align: right;\">\n",
       "      <th></th>\n",
       "      <th>wheel_base</th>\n",
       "      <th>length</th>\n",
       "      <th>width</th>\n",
       "      <th>height</th>\n",
       "      <th>curb_weight</th>\n",
       "      <th>engine_size</th>\n",
       "      <th>bore</th>\n",
       "      <th>stroke</th>\n",
       "      <th>compression_ratio</th>\n",
       "      <th>horsepower</th>\n",
       "      <th>peak_rpm</th>\n",
       "      <th>city_mpg</th>\n",
       "      <th>highway_mpg</th>\n",
       "      <th>price</th>\n",
       "    </tr>\n",
       "  </thead>\n",
       "  <tbody>\n",
       "    <tr>\n",
       "      <th>count</th>\n",
       "      <td>201.00</td>\n",
       "      <td>201.00</td>\n",
       "      <td>201.00</td>\n",
       "      <td>201.00</td>\n",
       "      <td>201.00</td>\n",
       "      <td>201.00</td>\n",
       "      <td>201.00</td>\n",
       "      <td>201.00</td>\n",
       "      <td>201.00</td>\n",
       "      <td>201.00</td>\n",
       "      <td>201.00</td>\n",
       "      <td>201.00</td>\n",
       "      <td>201.0</td>\n",
       "      <td>201.00</td>\n",
       "    </tr>\n",
       "    <tr>\n",
       "      <th>mean</th>\n",
       "      <td>98.80</td>\n",
       "      <td>174.20</td>\n",
       "      <td>65.89</td>\n",
       "      <td>53.77</td>\n",
       "      <td>2555.67</td>\n",
       "      <td>126.88</td>\n",
       "      <td>3.33</td>\n",
       "      <td>3.26</td>\n",
       "      <td>10.16</td>\n",
       "      <td>103.26</td>\n",
       "      <td>5113.19</td>\n",
       "      <td>25.17</td>\n",
       "      <td>30.7</td>\n",
       "      <td>13207.13</td>\n",
       "    </tr>\n",
       "    <tr>\n",
       "      <th>std</th>\n",
       "      <td>6.07</td>\n",
       "      <td>12.32</td>\n",
       "      <td>2.10</td>\n",
       "      <td>2.45</td>\n",
       "      <td>517.30</td>\n",
       "      <td>41.55</td>\n",
       "      <td>0.27</td>\n",
       "      <td>0.32</td>\n",
       "      <td>4.00</td>\n",
       "      <td>37.39</td>\n",
       "      <td>467.98</td>\n",
       "      <td>6.42</td>\n",
       "      <td>6.8</td>\n",
       "      <td>7947.07</td>\n",
       "    </tr>\n",
       "    <tr>\n",
       "      <th>min</th>\n",
       "      <td>86.60</td>\n",
       "      <td>141.10</td>\n",
       "      <td>60.30</td>\n",
       "      <td>47.80</td>\n",
       "      <td>1488.00</td>\n",
       "      <td>61.00</td>\n",
       "      <td>2.54</td>\n",
       "      <td>2.07</td>\n",
       "      <td>7.00</td>\n",
       "      <td>48.00</td>\n",
       "      <td>4150.00</td>\n",
       "      <td>13.00</td>\n",
       "      <td>16.0</td>\n",
       "      <td>5118.00</td>\n",
       "    </tr>\n",
       "    <tr>\n",
       "      <th>25%</th>\n",
       "      <td>94.50</td>\n",
       "      <td>166.80</td>\n",
       "      <td>64.10</td>\n",
       "      <td>52.00</td>\n",
       "      <td>2169.00</td>\n",
       "      <td>98.00</td>\n",
       "      <td>3.15</td>\n",
       "      <td>3.11</td>\n",
       "      <td>8.60</td>\n",
       "      <td>70.00</td>\n",
       "      <td>4800.00</td>\n",
       "      <td>19.00</td>\n",
       "      <td>25.0</td>\n",
       "      <td>7775.00</td>\n",
       "    </tr>\n",
       "    <tr>\n",
       "      <th>50%</th>\n",
       "      <td>97.00</td>\n",
       "      <td>173.20</td>\n",
       "      <td>65.50</td>\n",
       "      <td>54.10</td>\n",
       "      <td>2414.00</td>\n",
       "      <td>120.00</td>\n",
       "      <td>3.31</td>\n",
       "      <td>3.29</td>\n",
       "      <td>9.00</td>\n",
       "      <td>95.00</td>\n",
       "      <td>5100.00</td>\n",
       "      <td>24.00</td>\n",
       "      <td>30.0</td>\n",
       "      <td>10295.00</td>\n",
       "    </tr>\n",
       "    <tr>\n",
       "      <th>75%</th>\n",
       "      <td>102.40</td>\n",
       "      <td>183.50</td>\n",
       "      <td>66.60</td>\n",
       "      <td>55.50</td>\n",
       "      <td>2926.00</td>\n",
       "      <td>141.00</td>\n",
       "      <td>3.58</td>\n",
       "      <td>3.46</td>\n",
       "      <td>9.40</td>\n",
       "      <td>116.00</td>\n",
       "      <td>5500.00</td>\n",
       "      <td>30.00</td>\n",
       "      <td>34.0</td>\n",
       "      <td>16500.00</td>\n",
       "    </tr>\n",
       "    <tr>\n",
       "      <th>max</th>\n",
       "      <td>120.90</td>\n",
       "      <td>208.10</td>\n",
       "      <td>72.00</td>\n",
       "      <td>59.80</td>\n",
       "      <td>4066.00</td>\n",
       "      <td>326.00</td>\n",
       "      <td>3.94</td>\n",
       "      <td>4.17</td>\n",
       "      <td>23.00</td>\n",
       "      <td>262.00</td>\n",
       "      <td>6600.00</td>\n",
       "      <td>49.00</td>\n",
       "      <td>54.0</td>\n",
       "      <td>45400.00</td>\n",
       "    </tr>\n",
       "  </tbody>\n",
       "</table>\n",
       "</div>"
      ],
      "text/plain": [
       "       wheel_base  length   width  height  curb_weight  engine_size    bore  \\\n",
       "count      201.00  201.00  201.00  201.00       201.00       201.00  201.00   \n",
       "mean        98.80  174.20   65.89   53.77      2555.67       126.88    3.33   \n",
       "std          6.07   12.32    2.10    2.45       517.30        41.55    0.27   \n",
       "min         86.60  141.10   60.30   47.80      1488.00        61.00    2.54   \n",
       "25%         94.50  166.80   64.10   52.00      2169.00        98.00    3.15   \n",
       "50%         97.00  173.20   65.50   54.10      2414.00       120.00    3.31   \n",
       "75%        102.40  183.50   66.60   55.50      2926.00       141.00    3.58   \n",
       "max        120.90  208.10   72.00   59.80      4066.00       326.00    3.94   \n",
       "\n",
       "       stroke  compression_ratio  horsepower  peak_rpm  city_mpg  highway_mpg  \\\n",
       "count  201.00             201.00      201.00    201.00    201.00        201.0   \n",
       "mean     3.26              10.16      103.26   5113.19     25.17         30.7   \n",
       "std      0.32               4.00       37.39    467.98      6.42          6.8   \n",
       "min      2.07               7.00       48.00   4150.00     13.00         16.0   \n",
       "25%      3.11               8.60       70.00   4800.00     19.00         25.0   \n",
       "50%      3.29               9.00       95.00   5100.00     24.00         30.0   \n",
       "75%      3.46               9.40      116.00   5500.00     30.00         34.0   \n",
       "max      4.17              23.00      262.00   6600.00     49.00         54.0   \n",
       "\n",
       "          price  \n",
       "count    201.00  \n",
       "mean   13207.13  \n",
       "std     7947.07  \n",
       "min     5118.00  \n",
       "25%     7775.00  \n",
       "50%    10295.00  \n",
       "75%    16500.00  \n",
       "max    45400.00  "
      ]
     },
     "execution_count": 18,
     "metadata": {},
     "output_type": "execute_result"
    }
   ],
   "source": [
    "df.describe().round(2)"
   ]
  },
  {
   "cell_type": "code",
   "execution_count": 19,
   "metadata": {},
   "outputs": [
    {
     "name": "stdout",
     "output_type": "stream",
     "text": [
      "highway_mpg\n",
      "['Lowers']\n",
      "['Uppers']\n",
      "price\n",
      "['Lowers']\n",
      "['Uppers']\n",
      "horsepower\n",
      "['Lowers']\n",
      "['Uppers']\n",
      "length\n",
      "['Lowers']\n",
      "['Uppers']\n",
      "width\n",
      "['Lowers']\n",
      "['Uppers']\n",
      "height\n",
      "['Lowers']\n",
      "['Uppers']\n",
      "curb_weight\n",
      "['Lowers']\n",
      "['Uppers']\n",
      "stroke\n",
      "['Lowers']\n",
      "['Uppers']\n",
      "peak_rpm\n",
      "['Lowers']\n",
      "['Uppers']\n",
      "city_mpg\n",
      "['Lowers']\n",
      "['Uppers']\n",
      "highway_mpg\n",
      "['Lowers']\n",
      "['Uppers']\n",
      "compression_ratio\n",
      "['Lowers']\n",
      "['Uppers', 22.7, 22.0, 21.5, 21.5, 21.5, 21.5, 21.9, 21.0, 21.0, 21.0, 21.0, 21.0, 22.5, 22.5, 22.5, 23.0, 23.0, 23.0, 23.0, 23.0]\n"
     ]
    }
   ],
   "source": [
    "identificacao_outlier(df, 'highway_mpg')\n",
    "identificacao_outlier(df, 'price')\n",
    "identificacao_outlier(df, 'horsepower')\n",
    "identificacao_outlier(df, 'length')\n",
    "identificacao_outlier(df, 'width')\n",
    "identificacao_outlier(df, 'height')\n",
    "identificacao_outlier(df, 'curb_weight')\n",
    "identificacao_outlier(df, 'stroke')\n",
    "identificacao_outlier(df, 'peak_rpm')\n",
    "identificacao_outlier(df, 'city_mpg')\n",
    "identificacao_outlier(df, 'highway_mpg')\n",
    "identificacao_outlier(df, 'compression_ratio')"
   ]
  },
  {
   "cell_type": "markdown",
   "metadata": {},
   "source": [
    "**Pergunta:** Houve dados discrepantes localizados pela metodologia sugerida? Qual foi a sua conclusão, são realmente dados que devem ser removidos ou mantidos? Justifique.\n",
    "\n",
    "**Resposta:** Segundo o Método Turco para identificação de *outliers*, há valores discrepantes a serem avaliados apenas na coluna **compression_ratio** (taxa de compressão). \n",
    "\n",
    "Estes dados devem ser mantidos, devido a relevância no desempenho do veículo. Quanto maior a taxa de compressão, maior o rendimento do motor. Porém, há um limite: a qualidade do combustível. \n",
    "\n",
    "Em um carro a base de gasolina, a taxa fica por volta de 8 (ou seja, o volume final é 8 vezes menor do que o original). Mais do que isso, a gasolina sofre pré-detonação ou a famosa \"batida de pino\". Para um carro a base de álcool, a taxa fica por volta de 12. Então dizemos que um carro a álcool tem taxa de compressão alta. Os carros Flex trabalham com uma taxa média\n",
    "\n"
   ]
  },
  {
   "cell_type": "markdown",
   "metadata": {},
   "source": [
    "### Mapeamento de Dados Paramétricos"
   ]
  },
  {
   "cell_type": "markdown",
   "metadata": {},
   "source": [
    "Os algoritmos de aprendizado de máquina precisam receber dados que sejam inteiramente numéricos. Dados que representam uma classificação como por exemplo um tipo de carro, como sedan ou hatchback, deve ser convertido em um valor numérico associado, como por exemplo 1 ou 2.\n",
    "\n",
    "Crie uma função que receba uma lista única e retorne um dicionário com a categoria e um código numérico crescente e incremental para posteriormente utilizarmos como mapeamento."
   ]
  },
  {
   "cell_type": "code",
   "execution_count": 20,
   "metadata": {},
   "outputs": [
    {
     "data": {
      "text/plain": [
       "make                    object\n",
       "fuel_type               object\n",
       "aspiration              object\n",
       "number_of_doors         object\n",
       "body_style              object\n",
       "drive_wheels            object\n",
       "engine_location         object\n",
       "wheel_base             float64\n",
       "length                 float64\n",
       "width                  float64\n",
       "height                 float64\n",
       "curb_weight              int64\n",
       "engine_type             object\n",
       "number_of_cylinders     object\n",
       "engine_size              int64\n",
       "fuel_system             object\n",
       "bore                   float64\n",
       "stroke                 float64\n",
       "compression_ratio      float64\n",
       "horsepower               int64\n",
       "peak_rpm               float64\n",
       "city_mpg               float64\n",
       "highway_mpg            float64\n",
       "price                    int64\n",
       "dtype: object"
      ]
     },
     "execution_count": 20,
     "metadata": {},
     "output_type": "execute_result"
    }
   ],
   "source": [
    "df.dtypes"
   ]
  },
  {
   "cell_type": "code",
   "execution_count": 21,
   "metadata": {},
   "outputs": [],
   "source": [
    "def dicionarios(df, column_name, serie):\n",
    "    dict_gen = []\n",
    "    count = 0\n",
    "    for item in serie:\n",
    "        dict_gen.append([item, count])        \n",
    "\n",
    "        count = count +1\n",
    "\n",
    "    return dict_gen"
   ]
  },
  {
   "cell_type": "code",
   "execution_count": 22,
   "metadata": {},
   "outputs": [],
   "source": [
    "def preprocess_features(dframe):\n",
    "    dicionario = []\n",
    "    for column in dframe:\n",
    "        enc = LabelEncoder()\n",
    "        if(column in ['make','fuel_type','aspiration','number_of_doors','drive_wheels', 'engine_location', 'engine_type',\n",
    "                      'number_of_cylinders','body_style','fuel_system']):\n",
    "            dicionario.append([column, dicionarios(df, column, np.unique(df[column]))])\n",
    "            dframe[column] = enc.fit_transform(dframe[column])\n",
    "            \n",
    "    \n",
    "    return [dframe, dicionario]"
   ]
  },
  {
   "cell_type": "markdown",
   "metadata": {},
   "source": [
    "\n",
    "Com a funcão criada, crie dicionários para cada coluna paramétrica. Lembre-se que é necessário passar somente valores únicos.\n",
    "\n",
    "*Dica: utilize a função unique() do dataframe para obter valores únicos de uma determinada série (ou coluna).*"
   ]
  },
  {
   "cell_type": "code",
   "execution_count": 23,
   "metadata": {},
   "outputs": [],
   "source": [
    "data = preprocess_features(df)"
   ]
  },
  {
   "cell_type": "code",
   "execution_count": 24,
   "metadata": {},
   "outputs": [
    {
     "name": "stdout",
     "output_type": "stream",
     "text": [
      "[['make', [['alfa-romero', 0], ['audi', 1], ['bmw', 2], ['chevrolet', 3], ['dodge', 4], ['honda', 5], ['isuzu', 6], ['jaguar', 7], ['mazda', 8], ['mercedes-benz', 9], ['mercury', 10], ['mitsubishi', 11], ['nissan', 12], ['peugot', 13], ['plymouth', 14], ['porsche', 15], ['renault', 16], ['saab', 17], ['subaru', 18], ['toyota', 19], ['volkswagen', 20], ['volvo', 21]]], ['fuel_type', [['diesel', 0], ['gas', 1]]], ['aspiration', [['std', 0], ['turbo', 1]]], ['number_of_doors', [['four', 0], ['two', 1]]], ['body_style', [['convertible', 0], ['hardtop', 1], ['hatchback', 2], ['sedan', 3], ['wagon', 4]]], ['drive_wheels', [['4wd', 0], ['fwd', 1], ['rwd', 2]]], ['engine_location', [['front', 0], ['rear', 1]]], ['engine_type', [['dohc', 0], ['l', 1], ['ohc', 2], ['ohcf', 3], ['ohcv', 4], ['rotor', 5]]], ['number_of_cylinders', [['eight', 0], ['five', 1], ['four', 2], ['six', 3], ['three', 4], ['twelve', 5], ['two', 6]]], ['fuel_system', [['1bbl', 0], ['2bbl', 1], ['4bbl', 2], ['idi', 3], ['mfi', 4], ['mpfi', 5], ['spdi', 6], ['spfi', 7]]]]\n"
     ]
    }
   ],
   "source": [
    "print(data[1])"
   ]
  },
  {
   "cell_type": "markdown",
   "metadata": {},
   "source": [
    "Até este momento seu conjunto de dados não deve conter nenhum dado paramétrico. Todos os dados armazenados com valores como texto, por exemplo, \"diese\", \"gas\" deve estar preenchido com valores numéricos, como 1 ou 2.\n",
    "\n",
    "Inspecione seus dados e certifique de que tudo está certo.\n",
    "\n",
    "*Dica: utilize uma inspeção simples visual, com 20 amostras.*"
   ]
  },
  {
   "cell_type": "code",
   "execution_count": 25,
   "metadata": {},
   "outputs": [
    {
     "data": {
      "text/html": [
       "<div>\n",
       "<style scoped>\n",
       "    .dataframe tbody tr th:only-of-type {\n",
       "        vertical-align: middle;\n",
       "    }\n",
       "\n",
       "    .dataframe tbody tr th {\n",
       "        vertical-align: top;\n",
       "    }\n",
       "\n",
       "    .dataframe thead th {\n",
       "        text-align: right;\n",
       "    }\n",
       "</style>\n",
       "<table border=\"1\" class=\"dataframe\">\n",
       "  <thead>\n",
       "    <tr style=\"text-align: right;\">\n",
       "      <th></th>\n",
       "      <th>make</th>\n",
       "      <th>fuel_type</th>\n",
       "      <th>aspiration</th>\n",
       "      <th>number_of_doors</th>\n",
       "      <th>body_style</th>\n",
       "      <th>drive_wheels</th>\n",
       "      <th>engine_location</th>\n",
       "      <th>wheel_base</th>\n",
       "      <th>length</th>\n",
       "      <th>width</th>\n",
       "      <th>...</th>\n",
       "      <th>engine_size</th>\n",
       "      <th>fuel_system</th>\n",
       "      <th>bore</th>\n",
       "      <th>stroke</th>\n",
       "      <th>compression_ratio</th>\n",
       "      <th>horsepower</th>\n",
       "      <th>peak_rpm</th>\n",
       "      <th>city_mpg</th>\n",
       "      <th>highway_mpg</th>\n",
       "      <th>price</th>\n",
       "    </tr>\n",
       "  </thead>\n",
       "  <tbody>\n",
       "    <tr>\n",
       "      <th>0</th>\n",
       "      <td>0</td>\n",
       "      <td>1</td>\n",
       "      <td>0</td>\n",
       "      <td>1</td>\n",
       "      <td>0</td>\n",
       "      <td>2</td>\n",
       "      <td>0</td>\n",
       "      <td>88.6</td>\n",
       "      <td>168.8</td>\n",
       "      <td>64.1</td>\n",
       "      <td>...</td>\n",
       "      <td>130</td>\n",
       "      <td>5</td>\n",
       "      <td>3.47</td>\n",
       "      <td>2.68</td>\n",
       "      <td>9.0</td>\n",
       "      <td>111</td>\n",
       "      <td>5000.0</td>\n",
       "      <td>21.0</td>\n",
       "      <td>27.0</td>\n",
       "      <td>13495</td>\n",
       "    </tr>\n",
       "    <tr>\n",
       "      <th>1</th>\n",
       "      <td>0</td>\n",
       "      <td>1</td>\n",
       "      <td>0</td>\n",
       "      <td>1</td>\n",
       "      <td>0</td>\n",
       "      <td>2</td>\n",
       "      <td>0</td>\n",
       "      <td>88.6</td>\n",
       "      <td>168.8</td>\n",
       "      <td>64.1</td>\n",
       "      <td>...</td>\n",
       "      <td>130</td>\n",
       "      <td>5</td>\n",
       "      <td>3.47</td>\n",
       "      <td>2.68</td>\n",
       "      <td>9.0</td>\n",
       "      <td>111</td>\n",
       "      <td>5000.0</td>\n",
       "      <td>21.0</td>\n",
       "      <td>27.0</td>\n",
       "      <td>16500</td>\n",
       "    </tr>\n",
       "    <tr>\n",
       "      <th>2</th>\n",
       "      <td>0</td>\n",
       "      <td>1</td>\n",
       "      <td>0</td>\n",
       "      <td>1</td>\n",
       "      <td>2</td>\n",
       "      <td>2</td>\n",
       "      <td>0</td>\n",
       "      <td>94.5</td>\n",
       "      <td>171.2</td>\n",
       "      <td>65.5</td>\n",
       "      <td>...</td>\n",
       "      <td>152</td>\n",
       "      <td>5</td>\n",
       "      <td>2.68</td>\n",
       "      <td>3.47</td>\n",
       "      <td>9.0</td>\n",
       "      <td>154</td>\n",
       "      <td>5000.0</td>\n",
       "      <td>19.0</td>\n",
       "      <td>26.0</td>\n",
       "      <td>16500</td>\n",
       "    </tr>\n",
       "    <tr>\n",
       "      <th>3</th>\n",
       "      <td>1</td>\n",
       "      <td>1</td>\n",
       "      <td>0</td>\n",
       "      <td>0</td>\n",
       "      <td>3</td>\n",
       "      <td>1</td>\n",
       "      <td>0</td>\n",
       "      <td>99.8</td>\n",
       "      <td>176.6</td>\n",
       "      <td>66.2</td>\n",
       "      <td>...</td>\n",
       "      <td>109</td>\n",
       "      <td>5</td>\n",
       "      <td>3.19</td>\n",
       "      <td>3.40</td>\n",
       "      <td>10.0</td>\n",
       "      <td>102</td>\n",
       "      <td>5500.0</td>\n",
       "      <td>24.0</td>\n",
       "      <td>30.0</td>\n",
       "      <td>13950</td>\n",
       "    </tr>\n",
       "    <tr>\n",
       "      <th>4</th>\n",
       "      <td>1</td>\n",
       "      <td>1</td>\n",
       "      <td>0</td>\n",
       "      <td>0</td>\n",
       "      <td>3</td>\n",
       "      <td>0</td>\n",
       "      <td>0</td>\n",
       "      <td>99.4</td>\n",
       "      <td>176.6</td>\n",
       "      <td>66.4</td>\n",
       "      <td>...</td>\n",
       "      <td>136</td>\n",
       "      <td>5</td>\n",
       "      <td>3.19</td>\n",
       "      <td>3.40</td>\n",
       "      <td>8.0</td>\n",
       "      <td>115</td>\n",
       "      <td>5500.0</td>\n",
       "      <td>18.0</td>\n",
       "      <td>22.0</td>\n",
       "      <td>17450</td>\n",
       "    </tr>\n",
       "    <tr>\n",
       "      <th>5</th>\n",
       "      <td>1</td>\n",
       "      <td>1</td>\n",
       "      <td>0</td>\n",
       "      <td>1</td>\n",
       "      <td>3</td>\n",
       "      <td>1</td>\n",
       "      <td>0</td>\n",
       "      <td>99.8</td>\n",
       "      <td>177.3</td>\n",
       "      <td>66.3</td>\n",
       "      <td>...</td>\n",
       "      <td>136</td>\n",
       "      <td>5</td>\n",
       "      <td>3.19</td>\n",
       "      <td>3.40</td>\n",
       "      <td>8.5</td>\n",
       "      <td>110</td>\n",
       "      <td>5500.0</td>\n",
       "      <td>19.0</td>\n",
       "      <td>25.0</td>\n",
       "      <td>15250</td>\n",
       "    </tr>\n",
       "    <tr>\n",
       "      <th>6</th>\n",
       "      <td>1</td>\n",
       "      <td>1</td>\n",
       "      <td>0</td>\n",
       "      <td>0</td>\n",
       "      <td>3</td>\n",
       "      <td>1</td>\n",
       "      <td>0</td>\n",
       "      <td>105.8</td>\n",
       "      <td>192.7</td>\n",
       "      <td>71.4</td>\n",
       "      <td>...</td>\n",
       "      <td>136</td>\n",
       "      <td>5</td>\n",
       "      <td>3.19</td>\n",
       "      <td>3.40</td>\n",
       "      <td>8.5</td>\n",
       "      <td>110</td>\n",
       "      <td>5500.0</td>\n",
       "      <td>19.0</td>\n",
       "      <td>25.0</td>\n",
       "      <td>17710</td>\n",
       "    </tr>\n",
       "    <tr>\n",
       "      <th>7</th>\n",
       "      <td>1</td>\n",
       "      <td>1</td>\n",
       "      <td>0</td>\n",
       "      <td>0</td>\n",
       "      <td>4</td>\n",
       "      <td>1</td>\n",
       "      <td>0</td>\n",
       "      <td>105.8</td>\n",
       "      <td>192.7</td>\n",
       "      <td>71.4</td>\n",
       "      <td>...</td>\n",
       "      <td>136</td>\n",
       "      <td>5</td>\n",
       "      <td>3.19</td>\n",
       "      <td>3.40</td>\n",
       "      <td>8.5</td>\n",
       "      <td>110</td>\n",
       "      <td>5500.0</td>\n",
       "      <td>19.0</td>\n",
       "      <td>25.0</td>\n",
       "      <td>18920</td>\n",
       "    </tr>\n",
       "    <tr>\n",
       "      <th>8</th>\n",
       "      <td>1</td>\n",
       "      <td>1</td>\n",
       "      <td>1</td>\n",
       "      <td>0</td>\n",
       "      <td>3</td>\n",
       "      <td>1</td>\n",
       "      <td>0</td>\n",
       "      <td>105.8</td>\n",
       "      <td>192.7</td>\n",
       "      <td>71.4</td>\n",
       "      <td>...</td>\n",
       "      <td>131</td>\n",
       "      <td>5</td>\n",
       "      <td>3.13</td>\n",
       "      <td>3.40</td>\n",
       "      <td>8.3</td>\n",
       "      <td>140</td>\n",
       "      <td>5500.0</td>\n",
       "      <td>17.0</td>\n",
       "      <td>20.0</td>\n",
       "      <td>23875</td>\n",
       "    </tr>\n",
       "    <tr>\n",
       "      <th>9</th>\n",
       "      <td>2</td>\n",
       "      <td>1</td>\n",
       "      <td>0</td>\n",
       "      <td>1</td>\n",
       "      <td>3</td>\n",
       "      <td>2</td>\n",
       "      <td>0</td>\n",
       "      <td>101.2</td>\n",
       "      <td>176.8</td>\n",
       "      <td>64.8</td>\n",
       "      <td>...</td>\n",
       "      <td>108</td>\n",
       "      <td>5</td>\n",
       "      <td>3.50</td>\n",
       "      <td>2.80</td>\n",
       "      <td>8.8</td>\n",
       "      <td>101</td>\n",
       "      <td>5800.0</td>\n",
       "      <td>23.0</td>\n",
       "      <td>29.0</td>\n",
       "      <td>16430</td>\n",
       "    </tr>\n",
       "    <tr>\n",
       "      <th>10</th>\n",
       "      <td>2</td>\n",
       "      <td>1</td>\n",
       "      <td>0</td>\n",
       "      <td>0</td>\n",
       "      <td>3</td>\n",
       "      <td>2</td>\n",
       "      <td>0</td>\n",
       "      <td>101.2</td>\n",
       "      <td>176.8</td>\n",
       "      <td>64.8</td>\n",
       "      <td>...</td>\n",
       "      <td>108</td>\n",
       "      <td>5</td>\n",
       "      <td>3.50</td>\n",
       "      <td>2.80</td>\n",
       "      <td>8.8</td>\n",
       "      <td>101</td>\n",
       "      <td>5800.0</td>\n",
       "      <td>23.0</td>\n",
       "      <td>29.0</td>\n",
       "      <td>16925</td>\n",
       "    </tr>\n",
       "    <tr>\n",
       "      <th>11</th>\n",
       "      <td>2</td>\n",
       "      <td>1</td>\n",
       "      <td>0</td>\n",
       "      <td>1</td>\n",
       "      <td>3</td>\n",
       "      <td>2</td>\n",
       "      <td>0</td>\n",
       "      <td>101.2</td>\n",
       "      <td>176.8</td>\n",
       "      <td>64.8</td>\n",
       "      <td>...</td>\n",
       "      <td>164</td>\n",
       "      <td>5</td>\n",
       "      <td>3.31</td>\n",
       "      <td>3.19</td>\n",
       "      <td>9.0</td>\n",
       "      <td>121</td>\n",
       "      <td>4250.0</td>\n",
       "      <td>21.0</td>\n",
       "      <td>28.0</td>\n",
       "      <td>20970</td>\n",
       "    </tr>\n",
       "    <tr>\n",
       "      <th>12</th>\n",
       "      <td>2</td>\n",
       "      <td>1</td>\n",
       "      <td>0</td>\n",
       "      <td>0</td>\n",
       "      <td>3</td>\n",
       "      <td>2</td>\n",
       "      <td>0</td>\n",
       "      <td>101.2</td>\n",
       "      <td>176.8</td>\n",
       "      <td>64.8</td>\n",
       "      <td>...</td>\n",
       "      <td>164</td>\n",
       "      <td>5</td>\n",
       "      <td>3.31</td>\n",
       "      <td>3.19</td>\n",
       "      <td>9.0</td>\n",
       "      <td>121</td>\n",
       "      <td>4250.0</td>\n",
       "      <td>21.0</td>\n",
       "      <td>28.0</td>\n",
       "      <td>21105</td>\n",
       "    </tr>\n",
       "    <tr>\n",
       "      <th>13</th>\n",
       "      <td>2</td>\n",
       "      <td>1</td>\n",
       "      <td>0</td>\n",
       "      <td>0</td>\n",
       "      <td>3</td>\n",
       "      <td>2</td>\n",
       "      <td>0</td>\n",
       "      <td>103.5</td>\n",
       "      <td>189.0</td>\n",
       "      <td>66.9</td>\n",
       "      <td>...</td>\n",
       "      <td>164</td>\n",
       "      <td>5</td>\n",
       "      <td>3.31</td>\n",
       "      <td>3.19</td>\n",
       "      <td>9.0</td>\n",
       "      <td>121</td>\n",
       "      <td>4250.0</td>\n",
       "      <td>20.0</td>\n",
       "      <td>25.0</td>\n",
       "      <td>24565</td>\n",
       "    </tr>\n",
       "    <tr>\n",
       "      <th>14</th>\n",
       "      <td>2</td>\n",
       "      <td>1</td>\n",
       "      <td>0</td>\n",
       "      <td>0</td>\n",
       "      <td>3</td>\n",
       "      <td>2</td>\n",
       "      <td>0</td>\n",
       "      <td>103.5</td>\n",
       "      <td>189.0</td>\n",
       "      <td>66.9</td>\n",
       "      <td>...</td>\n",
       "      <td>209</td>\n",
       "      <td>5</td>\n",
       "      <td>3.62</td>\n",
       "      <td>3.39</td>\n",
       "      <td>8.0</td>\n",
       "      <td>182</td>\n",
       "      <td>5400.0</td>\n",
       "      <td>16.0</td>\n",
       "      <td>22.0</td>\n",
       "      <td>30760</td>\n",
       "    </tr>\n",
       "    <tr>\n",
       "      <th>15</th>\n",
       "      <td>2</td>\n",
       "      <td>1</td>\n",
       "      <td>0</td>\n",
       "      <td>1</td>\n",
       "      <td>3</td>\n",
       "      <td>2</td>\n",
       "      <td>0</td>\n",
       "      <td>103.5</td>\n",
       "      <td>193.8</td>\n",
       "      <td>67.9</td>\n",
       "      <td>...</td>\n",
       "      <td>209</td>\n",
       "      <td>5</td>\n",
       "      <td>3.62</td>\n",
       "      <td>3.39</td>\n",
       "      <td>8.0</td>\n",
       "      <td>182</td>\n",
       "      <td>5400.0</td>\n",
       "      <td>16.0</td>\n",
       "      <td>22.0</td>\n",
       "      <td>41315</td>\n",
       "    </tr>\n",
       "    <tr>\n",
       "      <th>16</th>\n",
       "      <td>2</td>\n",
       "      <td>1</td>\n",
       "      <td>0</td>\n",
       "      <td>0</td>\n",
       "      <td>3</td>\n",
       "      <td>2</td>\n",
       "      <td>0</td>\n",
       "      <td>110.0</td>\n",
       "      <td>197.0</td>\n",
       "      <td>70.9</td>\n",
       "      <td>...</td>\n",
       "      <td>209</td>\n",
       "      <td>5</td>\n",
       "      <td>3.62</td>\n",
       "      <td>3.39</td>\n",
       "      <td>8.0</td>\n",
       "      <td>182</td>\n",
       "      <td>5400.0</td>\n",
       "      <td>15.0</td>\n",
       "      <td>20.0</td>\n",
       "      <td>36880</td>\n",
       "    </tr>\n",
       "    <tr>\n",
       "      <th>17</th>\n",
       "      <td>3</td>\n",
       "      <td>1</td>\n",
       "      <td>0</td>\n",
       "      <td>1</td>\n",
       "      <td>2</td>\n",
       "      <td>1</td>\n",
       "      <td>0</td>\n",
       "      <td>88.4</td>\n",
       "      <td>141.1</td>\n",
       "      <td>60.3</td>\n",
       "      <td>...</td>\n",
       "      <td>61</td>\n",
       "      <td>1</td>\n",
       "      <td>2.91</td>\n",
       "      <td>3.03</td>\n",
       "      <td>9.5</td>\n",
       "      <td>48</td>\n",
       "      <td>5100.0</td>\n",
       "      <td>47.0</td>\n",
       "      <td>53.0</td>\n",
       "      <td>5151</td>\n",
       "    </tr>\n",
       "    <tr>\n",
       "      <th>18</th>\n",
       "      <td>3</td>\n",
       "      <td>1</td>\n",
       "      <td>0</td>\n",
       "      <td>1</td>\n",
       "      <td>2</td>\n",
       "      <td>1</td>\n",
       "      <td>0</td>\n",
       "      <td>94.5</td>\n",
       "      <td>155.9</td>\n",
       "      <td>63.6</td>\n",
       "      <td>...</td>\n",
       "      <td>90</td>\n",
       "      <td>1</td>\n",
       "      <td>3.03</td>\n",
       "      <td>3.11</td>\n",
       "      <td>9.6</td>\n",
       "      <td>70</td>\n",
       "      <td>5400.0</td>\n",
       "      <td>38.0</td>\n",
       "      <td>43.0</td>\n",
       "      <td>6295</td>\n",
       "    </tr>\n",
       "    <tr>\n",
       "      <th>19</th>\n",
       "      <td>3</td>\n",
       "      <td>1</td>\n",
       "      <td>0</td>\n",
       "      <td>0</td>\n",
       "      <td>3</td>\n",
       "      <td>1</td>\n",
       "      <td>0</td>\n",
       "      <td>94.5</td>\n",
       "      <td>158.8</td>\n",
       "      <td>63.6</td>\n",
       "      <td>...</td>\n",
       "      <td>90</td>\n",
       "      <td>1</td>\n",
       "      <td>3.03</td>\n",
       "      <td>3.11</td>\n",
       "      <td>9.6</td>\n",
       "      <td>70</td>\n",
       "      <td>5400.0</td>\n",
       "      <td>38.0</td>\n",
       "      <td>43.0</td>\n",
       "      <td>6575</td>\n",
       "    </tr>\n",
       "  </tbody>\n",
       "</table>\n",
       "<p>20 rows × 24 columns</p>\n",
       "</div>"
      ],
      "text/plain": [
       "    make  fuel_type  aspiration  number_of_doors  body_style  drive_wheels  \\\n",
       "0      0          1           0                1           0             2   \n",
       "1      0          1           0                1           0             2   \n",
       "2      0          1           0                1           2             2   \n",
       "3      1          1           0                0           3             1   \n",
       "4      1          1           0                0           3             0   \n",
       "5      1          1           0                1           3             1   \n",
       "6      1          1           0                0           3             1   \n",
       "7      1          1           0                0           4             1   \n",
       "8      1          1           1                0           3             1   \n",
       "9      2          1           0                1           3             2   \n",
       "10     2          1           0                0           3             2   \n",
       "11     2          1           0                1           3             2   \n",
       "12     2          1           0                0           3             2   \n",
       "13     2          1           0                0           3             2   \n",
       "14     2          1           0                0           3             2   \n",
       "15     2          1           0                1           3             2   \n",
       "16     2          1           0                0           3             2   \n",
       "17     3          1           0                1           2             1   \n",
       "18     3          1           0                1           2             1   \n",
       "19     3          1           0                0           3             1   \n",
       "\n",
       "    engine_location  wheel_base  length  width  ...    engine_size  \\\n",
       "0                 0        88.6   168.8   64.1  ...            130   \n",
       "1                 0        88.6   168.8   64.1  ...            130   \n",
       "2                 0        94.5   171.2   65.5  ...            152   \n",
       "3                 0        99.8   176.6   66.2  ...            109   \n",
       "4                 0        99.4   176.6   66.4  ...            136   \n",
       "5                 0        99.8   177.3   66.3  ...            136   \n",
       "6                 0       105.8   192.7   71.4  ...            136   \n",
       "7                 0       105.8   192.7   71.4  ...            136   \n",
       "8                 0       105.8   192.7   71.4  ...            131   \n",
       "9                 0       101.2   176.8   64.8  ...            108   \n",
       "10                0       101.2   176.8   64.8  ...            108   \n",
       "11                0       101.2   176.8   64.8  ...            164   \n",
       "12                0       101.2   176.8   64.8  ...            164   \n",
       "13                0       103.5   189.0   66.9  ...            164   \n",
       "14                0       103.5   189.0   66.9  ...            209   \n",
       "15                0       103.5   193.8   67.9  ...            209   \n",
       "16                0       110.0   197.0   70.9  ...            209   \n",
       "17                0        88.4   141.1   60.3  ...             61   \n",
       "18                0        94.5   155.9   63.6  ...             90   \n",
       "19                0        94.5   158.8   63.6  ...             90   \n",
       "\n",
       "    fuel_system  bore  stroke  compression_ratio  horsepower  peak_rpm  \\\n",
       "0             5  3.47    2.68                9.0         111    5000.0   \n",
       "1             5  3.47    2.68                9.0         111    5000.0   \n",
       "2             5  2.68    3.47                9.0         154    5000.0   \n",
       "3             5  3.19    3.40               10.0         102    5500.0   \n",
       "4             5  3.19    3.40                8.0         115    5500.0   \n",
       "5             5  3.19    3.40                8.5         110    5500.0   \n",
       "6             5  3.19    3.40                8.5         110    5500.0   \n",
       "7             5  3.19    3.40                8.5         110    5500.0   \n",
       "8             5  3.13    3.40                8.3         140    5500.0   \n",
       "9             5  3.50    2.80                8.8         101    5800.0   \n",
       "10            5  3.50    2.80                8.8         101    5800.0   \n",
       "11            5  3.31    3.19                9.0         121    4250.0   \n",
       "12            5  3.31    3.19                9.0         121    4250.0   \n",
       "13            5  3.31    3.19                9.0         121    4250.0   \n",
       "14            5  3.62    3.39                8.0         182    5400.0   \n",
       "15            5  3.62    3.39                8.0         182    5400.0   \n",
       "16            5  3.62    3.39                8.0         182    5400.0   \n",
       "17            1  2.91    3.03                9.5          48    5100.0   \n",
       "18            1  3.03    3.11                9.6          70    5400.0   \n",
       "19            1  3.03    3.11                9.6          70    5400.0   \n",
       "\n",
       "    city_mpg  highway_mpg  price  \n",
       "0       21.0         27.0  13495  \n",
       "1       21.0         27.0  16500  \n",
       "2       19.0         26.0  16500  \n",
       "3       24.0         30.0  13950  \n",
       "4       18.0         22.0  17450  \n",
       "5       19.0         25.0  15250  \n",
       "6       19.0         25.0  17710  \n",
       "7       19.0         25.0  18920  \n",
       "8       17.0         20.0  23875  \n",
       "9       23.0         29.0  16430  \n",
       "10      23.0         29.0  16925  \n",
       "11      21.0         28.0  20970  \n",
       "12      21.0         28.0  21105  \n",
       "13      20.0         25.0  24565  \n",
       "14      16.0         22.0  30760  \n",
       "15      16.0         22.0  41315  \n",
       "16      15.0         20.0  36880  \n",
       "17      47.0         53.0   5151  \n",
       "18      38.0         43.0   6295  \n",
       "19      38.0         43.0   6575  \n",
       "\n",
       "[20 rows x 24 columns]"
      ]
     },
     "execution_count": 25,
     "metadata": {},
     "output_type": "execute_result"
    }
   ],
   "source": [
    "data[0].head(20)"
   ]
  },
  {
   "cell_type": "markdown",
   "metadata": {},
   "source": [
    "## Desenvolvimento do Modelo"
   ]
  },
  {
   "cell_type": "markdown",
   "metadata": {},
   "source": [
    "O conjunto de dados que temos a nossa disposição indica a aplicação de um modelo voltado a regressão, ou seja, queremos prever um preço de um veículo dada certas condições. É um problema típico de predição de série numérica.\n",
    "\n",
    "Podemos aplicar quaisquer algoritmos de regressão existente que tenha aplicação de classificação, pois é de um domínio diferente.\n",
    "\n",
    "Iremos explorar 3 modelos de algoritmos de regressão para testar a performance de cada um deles. Ao final será eleito o que apresentar melhor performance de pontuação R2.\n",
    "\n",
    "Os algoritmos são:\n",
    "\n",
    "1. [Regressão Linear](http://scikit-learn.org/stable/auto_examples/linear_model/plot_ols.html)\n",
    "2. [Regressão de Árvore de Decisão](http://scikit-learn.org/stable/modules/generated/sklearn.tree.DecisionTreeRegressor.html)\n",
    "3. [Regressão Ridge](http://scikit-learn.org/stable/modules/linear_model.html#ridge-regression)"
   ]
  },
  {
   "cell_type": "markdown",
   "metadata": {},
   "source": [
    "**Pergunta:** Explique como cada modelo de regressão funciona, indicando pelo menos um caso de uso em cada um deles.\n",
    "\n",
    "**Regressão Linear**\n",
    "\n",
    "Análise de regressão é uma metodologia estatística que utiliza a relação entre duas ou mais variáveis quantitativas (ou qualitativas) de tal forma que uma variável pode ser predita a partir de outra ou outras.*Exemplo:*\n",
    "\n",
    "- Predição da população de bactérias a partir da relação entre população e o tempo de armazenamento.\n",
    "\n",
    "- Concentrações de Soluções de proteína de arroz integral e absorbâncias médias corrigidas\n",
    "- Número de falhas em uma obra e a satisfação média dos construtores\n",
    "- Dias de atraso de entrega x número de dias chuvosos\n",
    "\n",
    "** --------------------------------------------------------------------------------------------------------------------- **\n",
    "\n",
    "**Árvores de Decisão**\n",
    "\n",
    "Árvore de decisão é um tipo de algoritmo de aprendizagem supervisionada (com uma variável alvo pré-definida), utilizada em problemas de classificação ou regressão. Ele funciona tanto para as variáveis categóricas quanto contínuas de entrada e saída. \n",
    "\n",
    "O algoritmo utiliza a estratégia de dividir para conquistar: um problema complexo é decomposto em sub-problemas mais simples e recursivamente esta técnica é aplicada a cada sub-problema.*Exemplo:*\n",
    "\n",
    "- Qual jogo escolher?\n",
    "- Classificação de empréstimo bancário para um cliente\n",
    "\n",
    "\n",
    "** --------------------------------------------------------------------------------------------------------------------- **\n",
    "\n",
    "\n",
    "\n",
    "**Regressão Ridge**\n",
    "\n",
    "A regressão Ridge é uma regressão derivada da Regressão Linear que além de levar em conta o erro do treino também leva em consideração a medida da magnitude, buscando assim evitar o overffiting. Possui como objetivo suavizar atributos que sejam relacionados uns aos outros e que aumentam o ruído no modelo, através do encolhimento dos coeficientes da regressão linear por meio da imposição de uma penalidade aos seus tamanhos.*Exemplo:*\n",
    "\n"
   ]
  },
  {
   "cell_type": "markdown",
   "metadata": {
    "collapsed": true
   },
   "source": [
    "Antes de partimos para o treinamento do modelo, precisaremos separar os dados em subconjuntos para permitir avaliar adequadamente o modelo.\n",
    "\n",
    "Uma boa razão de tamanho de conjunto de treinamento e testes é 80% e 20% ou ainda, 70% e 30%. O importante é não misturar dados de treinamento com os de teste para termos uma ideia melhor sobre a performance do modelo com dados previametne não treinados.\n",
    "\n",
    "Antes de separarmos os dados, a partir das análises realizadas anteriormente, quais seriam os atributos a serem utilizados e qual seria o atributo preditor?"
   ]
  },
  {
   "cell_type": "code",
   "execution_count": 26,
   "metadata": {},
   "outputs": [],
   "source": [
    "x = data[0].drop(columns='price')\n",
    "y = data[0]['price']"
   ]
  },
  {
   "cell_type": "markdown",
   "metadata": {},
   "source": [
    "Crie subsets de treinamento e teste utilizado uma razão adequada de tamanho.\n",
    "Utilze o ```train_test_split``` passando como parâmetros"
   ]
  },
  {
   "cell_type": "code",
   "execution_count": 27,
   "metadata": {},
   "outputs": [],
   "source": [
    "from sklearn.model_selection import train_test_split\n",
    "\n",
    "X_train, X_test, Y_train, Y_test = train_test_split(x, y, test_size=.3, random_state=500)"
   ]
  },
  {
   "cell_type": "markdown",
   "metadata": {},
   "source": [
    "Inspecione cada subconjunto de dados obtidos do ```train_test_split```. Note que nos conjuntos X devemos ter atributos, logo é esperado uma matriz com mais de uma coluna. Nos conjuntos y, é a classe de predição, logo é esperado apenas um atributo."
   ]
  },
  {
   "cell_type": "code",
   "execution_count": 28,
   "metadata": {},
   "outputs": [
    {
     "data": {
      "text/html": [
       "<div>\n",
       "<style scoped>\n",
       "    .dataframe tbody tr th:only-of-type {\n",
       "        vertical-align: middle;\n",
       "    }\n",
       "\n",
       "    .dataframe tbody tr th {\n",
       "        vertical-align: top;\n",
       "    }\n",
       "\n",
       "    .dataframe thead th {\n",
       "        text-align: right;\n",
       "    }\n",
       "</style>\n",
       "<table border=\"1\" class=\"dataframe\">\n",
       "  <thead>\n",
       "    <tr style=\"text-align: right;\">\n",
       "      <th></th>\n",
       "      <th>make</th>\n",
       "      <th>fuel_type</th>\n",
       "      <th>aspiration</th>\n",
       "      <th>number_of_doors</th>\n",
       "      <th>body_style</th>\n",
       "      <th>drive_wheels</th>\n",
       "      <th>engine_location</th>\n",
       "      <th>wheel_base</th>\n",
       "      <th>length</th>\n",
       "      <th>width</th>\n",
       "      <th>...</th>\n",
       "      <th>number_of_cylinders</th>\n",
       "      <th>engine_size</th>\n",
       "      <th>fuel_system</th>\n",
       "      <th>bore</th>\n",
       "      <th>stroke</th>\n",
       "      <th>compression_ratio</th>\n",
       "      <th>horsepower</th>\n",
       "      <th>peak_rpm</th>\n",
       "      <th>city_mpg</th>\n",
       "      <th>highway_mpg</th>\n",
       "    </tr>\n",
       "  </thead>\n",
       "  <tbody>\n",
       "    <tr>\n",
       "      <th>count</th>\n",
       "      <td>140.0</td>\n",
       "      <td>140.00</td>\n",
       "      <td>140.00</td>\n",
       "      <td>140.00</td>\n",
       "      <td>140.00</td>\n",
       "      <td>140.00</td>\n",
       "      <td>140.00</td>\n",
       "      <td>140.00</td>\n",
       "      <td>140.00</td>\n",
       "      <td>140.00</td>\n",
       "      <td>...</td>\n",
       "      <td>140.00</td>\n",
       "      <td>140.00</td>\n",
       "      <td>140.00</td>\n",
       "      <td>140.00</td>\n",
       "      <td>140.00</td>\n",
       "      <td>140.00</td>\n",
       "      <td>140.00</td>\n",
       "      <td>140.00</td>\n",
       "      <td>140.00</td>\n",
       "      <td>140.00</td>\n",
       "    </tr>\n",
       "    <tr>\n",
       "      <th>mean</th>\n",
       "      <td>12.4</td>\n",
       "      <td>0.89</td>\n",
       "      <td>0.18</td>\n",
       "      <td>0.42</td>\n",
       "      <td>2.68</td>\n",
       "      <td>1.33</td>\n",
       "      <td>0.01</td>\n",
       "      <td>98.75</td>\n",
       "      <td>173.85</td>\n",
       "      <td>65.75</td>\n",
       "      <td>...</td>\n",
       "      <td>2.21</td>\n",
       "      <td>125.85</td>\n",
       "      <td>3.16</td>\n",
       "      <td>3.32</td>\n",
       "      <td>3.27</td>\n",
       "      <td>10.28</td>\n",
       "      <td>103.09</td>\n",
       "      <td>5102.77</td>\n",
       "      <td>25.46</td>\n",
       "      <td>30.95</td>\n",
       "    </tr>\n",
       "    <tr>\n",
       "      <th>std</th>\n",
       "      <td>6.2</td>\n",
       "      <td>0.31</td>\n",
       "      <td>0.38</td>\n",
       "      <td>0.50</td>\n",
       "      <td>0.81</td>\n",
       "      <td>0.54</td>\n",
       "      <td>0.12</td>\n",
       "      <td>5.95</td>\n",
       "      <td>12.37</td>\n",
       "      <td>2.00</td>\n",
       "      <td>...</td>\n",
       "      <td>0.85</td>\n",
       "      <td>43.98</td>\n",
       "      <td>2.04</td>\n",
       "      <td>0.28</td>\n",
       "      <td>0.32</td>\n",
       "      <td>4.15</td>\n",
       "      <td>39.07</td>\n",
       "      <td>492.92</td>\n",
       "      <td>6.57</td>\n",
       "      <td>6.91</td>\n",
       "    </tr>\n",
       "    <tr>\n",
       "      <th>min</th>\n",
       "      <td>0.0</td>\n",
       "      <td>0.00</td>\n",
       "      <td>0.00</td>\n",
       "      <td>0.00</td>\n",
       "      <td>0.00</td>\n",
       "      <td>0.00</td>\n",
       "      <td>0.00</td>\n",
       "      <td>86.60</td>\n",
       "      <td>141.10</td>\n",
       "      <td>60.30</td>\n",
       "      <td>...</td>\n",
       "      <td>0.00</td>\n",
       "      <td>61.00</td>\n",
       "      <td>0.00</td>\n",
       "      <td>2.54</td>\n",
       "      <td>2.07</td>\n",
       "      <td>7.00</td>\n",
       "      <td>48.00</td>\n",
       "      <td>4150.00</td>\n",
       "      <td>13.00</td>\n",
       "      <td>16.00</td>\n",
       "    </tr>\n",
       "    <tr>\n",
       "      <th>25%</th>\n",
       "      <td>8.0</td>\n",
       "      <td>1.00</td>\n",
       "      <td>0.00</td>\n",
       "      <td>0.00</td>\n",
       "      <td>2.00</td>\n",
       "      <td>1.00</td>\n",
       "      <td>0.00</td>\n",
       "      <td>94.50</td>\n",
       "      <td>166.30</td>\n",
       "      <td>64.15</td>\n",
       "      <td>...</td>\n",
       "      <td>2.00</td>\n",
       "      <td>97.00</td>\n",
       "      <td>1.00</td>\n",
       "      <td>3.15</td>\n",
       "      <td>3.12</td>\n",
       "      <td>8.67</td>\n",
       "      <td>70.00</td>\n",
       "      <td>4800.00</td>\n",
       "      <td>19.00</td>\n",
       "      <td>25.00</td>\n",
       "    </tr>\n",
       "    <tr>\n",
       "      <th>50%</th>\n",
       "      <td>12.0</td>\n",
       "      <td>1.00</td>\n",
       "      <td>0.00</td>\n",
       "      <td>0.00</td>\n",
       "      <td>3.00</td>\n",
       "      <td>1.00</td>\n",
       "      <td>0.00</td>\n",
       "      <td>96.70</td>\n",
       "      <td>172.50</td>\n",
       "      <td>65.45</td>\n",
       "      <td>...</td>\n",
       "      <td>2.00</td>\n",
       "      <td>110.00</td>\n",
       "      <td>3.00</td>\n",
       "      <td>3.28</td>\n",
       "      <td>3.32</td>\n",
       "      <td>9.00</td>\n",
       "      <td>94.00</td>\n",
       "      <td>5100.00</td>\n",
       "      <td>25.00</td>\n",
       "      <td>31.00</td>\n",
       "    </tr>\n",
       "    <tr>\n",
       "      <th>75%</th>\n",
       "      <td>19.0</td>\n",
       "      <td>1.00</td>\n",
       "      <td>0.00</td>\n",
       "      <td>1.00</td>\n",
       "      <td>3.00</td>\n",
       "      <td>2.00</td>\n",
       "      <td>0.00</td>\n",
       "      <td>102.10</td>\n",
       "      <td>181.55</td>\n",
       "      <td>66.50</td>\n",
       "      <td>...</td>\n",
       "      <td>2.00</td>\n",
       "      <td>142.00</td>\n",
       "      <td>5.00</td>\n",
       "      <td>3.59</td>\n",
       "      <td>3.46</td>\n",
       "      <td>9.40</td>\n",
       "      <td>117.00</td>\n",
       "      <td>5500.00</td>\n",
       "      <td>30.00</td>\n",
       "      <td>36.00</td>\n",
       "    </tr>\n",
       "    <tr>\n",
       "      <th>max</th>\n",
       "      <td>21.0</td>\n",
       "      <td>1.00</td>\n",
       "      <td>1.00</td>\n",
       "      <td>1.00</td>\n",
       "      <td>4.00</td>\n",
       "      <td>2.00</td>\n",
       "      <td>1.00</td>\n",
       "      <td>120.90</td>\n",
       "      <td>208.10</td>\n",
       "      <td>72.00</td>\n",
       "      <td>...</td>\n",
       "      <td>6.00</td>\n",
       "      <td>326.00</td>\n",
       "      <td>7.00</td>\n",
       "      <td>3.94</td>\n",
       "      <td>4.17</td>\n",
       "      <td>23.00</td>\n",
       "      <td>262.00</td>\n",
       "      <td>6600.00</td>\n",
       "      <td>47.00</td>\n",
       "      <td>53.00</td>\n",
       "    </tr>\n",
       "  </tbody>\n",
       "</table>\n",
       "<p>8 rows × 23 columns</p>\n",
       "</div>"
      ],
      "text/plain": [
       "        make  fuel_type  aspiration  number_of_doors  body_style  \\\n",
       "count  140.0     140.00      140.00           140.00      140.00   \n",
       "mean    12.4       0.89        0.18             0.42        2.68   \n",
       "std      6.2       0.31        0.38             0.50        0.81   \n",
       "min      0.0       0.00        0.00             0.00        0.00   \n",
       "25%      8.0       1.00        0.00             0.00        2.00   \n",
       "50%     12.0       1.00        0.00             0.00        3.00   \n",
       "75%     19.0       1.00        0.00             1.00        3.00   \n",
       "max     21.0       1.00        1.00             1.00        4.00   \n",
       "\n",
       "       drive_wheels  engine_location  wheel_base  length   width     ...       \\\n",
       "count        140.00           140.00      140.00  140.00  140.00     ...        \n",
       "mean           1.33             0.01       98.75  173.85   65.75     ...        \n",
       "std            0.54             0.12        5.95   12.37    2.00     ...        \n",
       "min            0.00             0.00       86.60  141.10   60.30     ...        \n",
       "25%            1.00             0.00       94.50  166.30   64.15     ...        \n",
       "50%            1.00             0.00       96.70  172.50   65.45     ...        \n",
       "75%            2.00             0.00      102.10  181.55   66.50     ...        \n",
       "max            2.00             1.00      120.90  208.10   72.00     ...        \n",
       "\n",
       "       number_of_cylinders  engine_size  fuel_system    bore  stroke  \\\n",
       "count               140.00       140.00       140.00  140.00  140.00   \n",
       "mean                  2.21       125.85         3.16    3.32    3.27   \n",
       "std                   0.85        43.98         2.04    0.28    0.32   \n",
       "min                   0.00        61.00         0.00    2.54    2.07   \n",
       "25%                   2.00        97.00         1.00    3.15    3.12   \n",
       "50%                   2.00       110.00         3.00    3.28    3.32   \n",
       "75%                   2.00       142.00         5.00    3.59    3.46   \n",
       "max                   6.00       326.00         7.00    3.94    4.17   \n",
       "\n",
       "       compression_ratio  horsepower  peak_rpm  city_mpg  highway_mpg  \n",
       "count             140.00      140.00    140.00    140.00       140.00  \n",
       "mean               10.28      103.09   5102.77     25.46        30.95  \n",
       "std                 4.15       39.07    492.92      6.57         6.91  \n",
       "min                 7.00       48.00   4150.00     13.00        16.00  \n",
       "25%                 8.67       70.00   4800.00     19.00        25.00  \n",
       "50%                 9.00       94.00   5100.00     25.00        31.00  \n",
       "75%                 9.40      117.00   5500.00     30.00        36.00  \n",
       "max                23.00      262.00   6600.00     47.00        53.00  \n",
       "\n",
       "[8 rows x 23 columns]"
      ]
     },
     "execution_count": 28,
     "metadata": {},
     "output_type": "execute_result"
    }
   ],
   "source": [
    "#Inspeção de X_train\n",
    "\n",
    "X_train.describe().round(2)"
   ]
  },
  {
   "cell_type": "code",
   "execution_count": 29,
   "metadata": {},
   "outputs": [
    {
     "data": {
      "text/html": [
       "<div>\n",
       "<style scoped>\n",
       "    .dataframe tbody tr th:only-of-type {\n",
       "        vertical-align: middle;\n",
       "    }\n",
       "\n",
       "    .dataframe tbody tr th {\n",
       "        vertical-align: top;\n",
       "    }\n",
       "\n",
       "    .dataframe thead th {\n",
       "        text-align: right;\n",
       "    }\n",
       "</style>\n",
       "<table border=\"1\" class=\"dataframe\">\n",
       "  <thead>\n",
       "    <tr style=\"text-align: right;\">\n",
       "      <th></th>\n",
       "      <th>make</th>\n",
       "      <th>fuel_type</th>\n",
       "      <th>aspiration</th>\n",
       "      <th>number_of_doors</th>\n",
       "      <th>body_style</th>\n",
       "      <th>drive_wheels</th>\n",
       "      <th>engine_location</th>\n",
       "      <th>wheel_base</th>\n",
       "      <th>length</th>\n",
       "      <th>width</th>\n",
       "      <th>...</th>\n",
       "      <th>number_of_cylinders</th>\n",
       "      <th>engine_size</th>\n",
       "      <th>fuel_system</th>\n",
       "      <th>bore</th>\n",
       "      <th>stroke</th>\n",
       "      <th>compression_ratio</th>\n",
       "      <th>horsepower</th>\n",
       "      <th>peak_rpm</th>\n",
       "      <th>city_mpg</th>\n",
       "      <th>highway_mpg</th>\n",
       "    </tr>\n",
       "  </thead>\n",
       "  <tbody>\n",
       "    <tr>\n",
       "      <th>count</th>\n",
       "      <td>61.00</td>\n",
       "      <td>61.00</td>\n",
       "      <td>61.00</td>\n",
       "      <td>61.00</td>\n",
       "      <td>61.00</td>\n",
       "      <td>61.00</td>\n",
       "      <td>61.00</td>\n",
       "      <td>61.00</td>\n",
       "      <td>61.00</td>\n",
       "      <td>61.00</td>\n",
       "      <td>...</td>\n",
       "      <td>61.00</td>\n",
       "      <td>61.00</td>\n",
       "      <td>61.00</td>\n",
       "      <td>61.00</td>\n",
       "      <td>61.00</td>\n",
       "      <td>61.00</td>\n",
       "      <td>61.00</td>\n",
       "      <td>61.00</td>\n",
       "      <td>61.00</td>\n",
       "      <td>61.00</td>\n",
       "    </tr>\n",
       "    <tr>\n",
       "      <th>mean</th>\n",
       "      <td>12.07</td>\n",
       "      <td>0.92</td>\n",
       "      <td>0.18</td>\n",
       "      <td>0.46</td>\n",
       "      <td>2.48</td>\n",
       "      <td>1.34</td>\n",
       "      <td>0.02</td>\n",
       "      <td>98.91</td>\n",
       "      <td>175.01</td>\n",
       "      <td>66.21</td>\n",
       "      <td>...</td>\n",
       "      <td>1.95</td>\n",
       "      <td>129.23</td>\n",
       "      <td>3.48</td>\n",
       "      <td>3.36</td>\n",
       "      <td>3.25</td>\n",
       "      <td>9.91</td>\n",
       "      <td>103.66</td>\n",
       "      <td>5137.10</td>\n",
       "      <td>24.52</td>\n",
       "      <td>30.11</td>\n",
       "    </tr>\n",
       "    <tr>\n",
       "      <th>std</th>\n",
       "      <td>6.42</td>\n",
       "      <td>0.28</td>\n",
       "      <td>0.39</td>\n",
       "      <td>0.50</td>\n",
       "      <td>0.98</td>\n",
       "      <td>0.57</td>\n",
       "      <td>0.13</td>\n",
       "      <td>6.38</td>\n",
       "      <td>12.27</td>\n",
       "      <td>2.31</td>\n",
       "      <td>...</td>\n",
       "      <td>0.56</td>\n",
       "      <td>35.57</td>\n",
       "      <td>1.95</td>\n",
       "      <td>0.25</td>\n",
       "      <td>0.31</td>\n",
       "      <td>3.67</td>\n",
       "      <td>33.53</td>\n",
       "      <td>407.79</td>\n",
       "      <td>6.05</td>\n",
       "      <td>6.55</td>\n",
       "    </tr>\n",
       "    <tr>\n",
       "      <th>min</th>\n",
       "      <td>0.00</td>\n",
       "      <td>0.00</td>\n",
       "      <td>0.00</td>\n",
       "      <td>0.00</td>\n",
       "      <td>0.00</td>\n",
       "      <td>0.00</td>\n",
       "      <td>0.00</td>\n",
       "      <td>86.60</td>\n",
       "      <td>144.60</td>\n",
       "      <td>63.60</td>\n",
       "      <td>...</td>\n",
       "      <td>0.00</td>\n",
       "      <td>90.00</td>\n",
       "      <td>0.00</td>\n",
       "      <td>2.91</td>\n",
       "      <td>2.19</td>\n",
       "      <td>7.00</td>\n",
       "      <td>56.00</td>\n",
       "      <td>4150.00</td>\n",
       "      <td>15.00</td>\n",
       "      <td>18.00</td>\n",
       "    </tr>\n",
       "    <tr>\n",
       "      <th>25%</th>\n",
       "      <td>8.00</td>\n",
       "      <td>1.00</td>\n",
       "      <td>0.00</td>\n",
       "      <td>0.00</td>\n",
       "      <td>2.00</td>\n",
       "      <td>1.00</td>\n",
       "      <td>0.00</td>\n",
       "      <td>94.50</td>\n",
       "      <td>168.70</td>\n",
       "      <td>64.10</td>\n",
       "      <td>...</td>\n",
       "      <td>2.00</td>\n",
       "      <td>98.00</td>\n",
       "      <td>1.00</td>\n",
       "      <td>3.19</td>\n",
       "      <td>3.10</td>\n",
       "      <td>8.50</td>\n",
       "      <td>82.00</td>\n",
       "      <td>4800.00</td>\n",
       "      <td>19.00</td>\n",
       "      <td>25.00</td>\n",
       "    </tr>\n",
       "    <tr>\n",
       "      <th>50%</th>\n",
       "      <td>12.00</td>\n",
       "      <td>1.00</td>\n",
       "      <td>0.00</td>\n",
       "      <td>0.00</td>\n",
       "      <td>3.00</td>\n",
       "      <td>1.00</td>\n",
       "      <td>0.00</td>\n",
       "      <td>97.30</td>\n",
       "      <td>174.60</td>\n",
       "      <td>65.60</td>\n",
       "      <td>...</td>\n",
       "      <td>2.00</td>\n",
       "      <td>122.00</td>\n",
       "      <td>5.00</td>\n",
       "      <td>3.39</td>\n",
       "      <td>3.29</td>\n",
       "      <td>9.00</td>\n",
       "      <td>101.00</td>\n",
       "      <td>5200.00</td>\n",
       "      <td>24.00</td>\n",
       "      <td>30.00</td>\n",
       "    </tr>\n",
       "    <tr>\n",
       "      <th>75%</th>\n",
       "      <td>18.00</td>\n",
       "      <td>1.00</td>\n",
       "      <td>0.00</td>\n",
       "      <td>1.00</td>\n",
       "      <td>3.00</td>\n",
       "      <td>2.00</td>\n",
       "      <td>0.00</td>\n",
       "      <td>103.30</td>\n",
       "      <td>186.60</td>\n",
       "      <td>67.70</td>\n",
       "      <td>...</td>\n",
       "      <td>2.00</td>\n",
       "      <td>141.00</td>\n",
       "      <td>5.00</td>\n",
       "      <td>3.58</td>\n",
       "      <td>3.40</td>\n",
       "      <td>9.40</td>\n",
       "      <td>114.00</td>\n",
       "      <td>5500.00</td>\n",
       "      <td>27.00</td>\n",
       "      <td>34.00</td>\n",
       "    </tr>\n",
       "    <tr>\n",
       "      <th>max</th>\n",
       "      <td>21.00</td>\n",
       "      <td>1.00</td>\n",
       "      <td>1.00</td>\n",
       "      <td>1.00</td>\n",
       "      <td>4.00</td>\n",
       "      <td>2.00</td>\n",
       "      <td>1.00</td>\n",
       "      <td>115.60</td>\n",
       "      <td>202.60</td>\n",
       "      <td>71.70</td>\n",
       "      <td>...</td>\n",
       "      <td>3.00</td>\n",
       "      <td>234.00</td>\n",
       "      <td>6.00</td>\n",
       "      <td>3.78</td>\n",
       "      <td>3.90</td>\n",
       "      <td>23.00</td>\n",
       "      <td>207.00</td>\n",
       "      <td>6600.00</td>\n",
       "      <td>49.00</td>\n",
       "      <td>54.00</td>\n",
       "    </tr>\n",
       "  </tbody>\n",
       "</table>\n",
       "<p>8 rows × 23 columns</p>\n",
       "</div>"
      ],
      "text/plain": [
       "        make  fuel_type  aspiration  number_of_doors  body_style  \\\n",
       "count  61.00      61.00       61.00            61.00       61.00   \n",
       "mean   12.07       0.92        0.18             0.46        2.48   \n",
       "std     6.42       0.28        0.39             0.50        0.98   \n",
       "min     0.00       0.00        0.00             0.00        0.00   \n",
       "25%     8.00       1.00        0.00             0.00        2.00   \n",
       "50%    12.00       1.00        0.00             0.00        3.00   \n",
       "75%    18.00       1.00        0.00             1.00        3.00   \n",
       "max    21.00       1.00        1.00             1.00        4.00   \n",
       "\n",
       "       drive_wheels  engine_location  wheel_base  length  width     ...       \\\n",
       "count         61.00            61.00       61.00   61.00  61.00     ...        \n",
       "mean           1.34             0.02       98.91  175.01  66.21     ...        \n",
       "std            0.57             0.13        6.38   12.27   2.31     ...        \n",
       "min            0.00             0.00       86.60  144.60  63.60     ...        \n",
       "25%            1.00             0.00       94.50  168.70  64.10     ...        \n",
       "50%            1.00             0.00       97.30  174.60  65.60     ...        \n",
       "75%            2.00             0.00      103.30  186.60  67.70     ...        \n",
       "max            2.00             1.00      115.60  202.60  71.70     ...        \n",
       "\n",
       "       number_of_cylinders  engine_size  fuel_system   bore  stroke  \\\n",
       "count                61.00        61.00        61.00  61.00   61.00   \n",
       "mean                  1.95       129.23         3.48   3.36    3.25   \n",
       "std                   0.56        35.57         1.95   0.25    0.31   \n",
       "min                   0.00        90.00         0.00   2.91    2.19   \n",
       "25%                   2.00        98.00         1.00   3.19    3.10   \n",
       "50%                   2.00       122.00         5.00   3.39    3.29   \n",
       "75%                   2.00       141.00         5.00   3.58    3.40   \n",
       "max                   3.00       234.00         6.00   3.78    3.90   \n",
       "\n",
       "       compression_ratio  horsepower  peak_rpm  city_mpg  highway_mpg  \n",
       "count              61.00       61.00     61.00     61.00        61.00  \n",
       "mean                9.91      103.66   5137.10     24.52        30.11  \n",
       "std                 3.67       33.53    407.79      6.05         6.55  \n",
       "min                 7.00       56.00   4150.00     15.00        18.00  \n",
       "25%                 8.50       82.00   4800.00     19.00        25.00  \n",
       "50%                 9.00      101.00   5200.00     24.00        30.00  \n",
       "75%                 9.40      114.00   5500.00     27.00        34.00  \n",
       "max                23.00      207.00   6600.00     49.00        54.00  \n",
       "\n",
       "[8 rows x 23 columns]"
      ]
     },
     "execution_count": 29,
     "metadata": {},
     "output_type": "execute_result"
    }
   ],
   "source": [
    "#Inspeção de X_test\n",
    "\n",
    "X_test.describe().round(2)"
   ]
  },
  {
   "cell_type": "code",
   "execution_count": 30,
   "metadata": {},
   "outputs": [
    {
     "data": {
      "text/plain": [
       "count      140.00\n",
       "mean     13045.51\n",
       "std       8116.80\n",
       "min       5118.00\n",
       "25%       7490.00\n",
       "50%      10221.50\n",
       "75%      16106.00\n",
       "max      45400.00\n",
       "Name: price, dtype: float64"
      ]
     },
     "execution_count": 30,
     "metadata": {},
     "output_type": "execute_result"
    }
   ],
   "source": [
    "#Inspeção de y_train\n",
    "\n",
    "Y_train.describe().round(2)"
   ]
  },
  {
   "cell_type": "code",
   "execution_count": 31,
   "metadata": {},
   "outputs": [
    {
     "data": {
      "text/plain": [
       "count       61.00\n",
       "mean     13578.07\n",
       "std       7595.46\n",
       "min       5389.00\n",
       "25%       8189.00\n",
       "50%      11199.00\n",
       "75%      16558.00\n",
       "max      36880.00\n",
       "Name: price, dtype: float64"
      ]
     },
     "execution_count": 31,
     "metadata": {},
     "output_type": "execute_result"
    }
   ],
   "source": [
    "#Inspeção de Y_test\n",
    "\n",
    "Y_test.describe().round(2)"
   ]
  },
  {
   "cell_type": "markdown",
   "metadata": {},
   "source": [
    "Verifique também se a razão dos conjuntos está coerente com a divisão estabelecida. Para estes cálculos divida o número de itens do conjunto de treino pelo total e também o de testes pelo total."
   ]
  },
  {
   "cell_type": "code",
   "execution_count": 32,
   "metadata": {},
   "outputs": [
    {
     "data": {
      "text/plain": [
       "[['Teste', 0.3], ['Treino', 0.7]]"
      ]
     },
     "execution_count": 32,
     "metadata": {},
     "output_type": "execute_result"
    }
   ],
   "source": [
    "#IMPLEMENTAÇÃO\n",
    "razaoTreino =  round(Y_train.count() / y.count(),2) \n",
    "razaoTest =  round(Y_test.count() / y.count(),2)\n",
    "\n",
    "dfRazao = []\n",
    "\n",
    "dfRazao.append(['Teste', razaoTest])\n",
    "dfRazao.append(['Treino', razaoTreino])\n",
    "\n",
    "dfRazao\n",
    "\n"
   ]
  },
  {
   "cell_type": "markdown",
   "metadata": {},
   "source": [
    "\n",
    "A divisão estabelicida foi 30% do Dataframe para teste e 70% para treino. Conforme verificado no código acima, a razão dos dados fazem total sentido, levando em consideração que estão seguindo as especificações que definimos no momento da divisão do dataFrame."
   ]
  },
  {
   "cell_type": "markdown",
   "metadata": {},
   "source": [
    "## Treinamento e teste do modelo\n",
    "\n",
    "Após separarmos os dados adequadamente, selecionar os atributos que irão compor como o modelo deve treinar e qual atributo deve perseguir, o próximo passo é treinar este modelo e verificar, pelos testes, sua performance.\n",
    "\n",
    "Este estudo também irá levar a escolhermos qual algoritmo devemos utilizar dentre os três selecionados neste ajuste.\n",
    "\n",
    "Para avaliarmos a performance dos modelos, vamos criar uma função que determinará a pontuação R2.\n",
    "\n",
    "Não esqueça de avaliar os conjuntos de dados de treino (```X_train```, ```y_train``` e de teste, ```X_test``` e ```y_test```)"
   ]
  },
  {
   "cell_type": "code",
   "execution_count": 33,
   "metadata": {},
   "outputs": [],
   "source": [
    "from sklearn.metrics import mean_squared_error, r2_score\n",
    "\n",
    "def pontuacao(modelo, X_test, Y_test):\n",
    "    Y_pred = modelo.predict(X_test)\n",
    "    \n",
    "    print(\"%s R2 score: %.2f\" %(modelo,r2_score(Y_test, Y_pred)))"
   ]
  },
  {
   "cell_type": "markdown",
   "metadata": {},
   "source": [
    "### Regressão Linear\n",
    "\n",
    "Utilize para a variável preditora a função ```.ravel()``` para converter os dados no formato que o ```sklearn``` espera."
   ]
  },
  {
   "cell_type": "code",
   "execution_count": 34,
   "metadata": {},
   "outputs": [],
   "source": [
    "from sklearn import linear_model\n",
    "\n",
    "lr_model = linear_model.LinearRegression()\n",
    "lr_model.fit(X_train, Y_train.ravel())\n",
    "y_pred = lr_model.predict(X_test)"
   ]
  },
  {
   "cell_type": "markdown",
   "metadata": {},
   "source": [
    "Obténha a pontuação R2, utilizando a função ```pontuacao``` para os conjuntos de treino e de teste."
   ]
  },
  {
   "cell_type": "code",
   "execution_count": 35,
   "metadata": {},
   "outputs": [
    {
     "name": "stdout",
     "output_type": "stream",
     "text": [
      "LinearRegression(copy_X=True, fit_intercept=True, n_jobs=1, normalize=False) R2 score: 0.86\n",
      "LinearRegression(copy_X=True, fit_intercept=True, n_jobs=1, normalize=False) R2 score: 0.90\n"
     ]
    }
   ],
   "source": [
    "pontuacao(lr_model, X_test, Y_test)\n",
    "pontuacao(lr_model, X_train, Y_train)"
   ]
  },
  {
   "cell_type": "markdown",
   "metadata": {},
   "source": [
    "### Regressão de árvore de Decisão"
   ]
  },
  {
   "cell_type": "code",
   "execution_count": 36,
   "metadata": {},
   "outputs": [
    {
     "data": {
      "text/plain": [
       "DecisionTreeRegressor(criterion='mse', max_depth=None, max_features=None,\n",
       "           max_leaf_nodes=None, min_impurity_decrease=0.0,\n",
       "           min_impurity_split=None, min_samples_leaf=1,\n",
       "           min_samples_split=2, min_weight_fraction_leaf=0.0,\n",
       "           presort=False, random_state=None, splitter='best')"
      ]
     },
     "execution_count": 36,
     "metadata": {},
     "output_type": "execute_result"
    }
   ],
   "source": [
    "from sklearn.tree import DecisionTreeRegressor\n",
    "\n",
    "dtr_model = DecisionTreeRegressor()\n",
    "dtr_model.fit(X_train, Y_train)"
   ]
  },
  {
   "cell_type": "markdown",
   "metadata": {},
   "source": [
    "Obténha a pontuação R2, utilizando a função ```pontuacao``` para os conjuntos de treino e de teste."
   ]
  },
  {
   "cell_type": "code",
   "execution_count": 37,
   "metadata": {},
   "outputs": [
    {
     "name": "stdout",
     "output_type": "stream",
     "text": [
      "DecisionTreeRegressor(criterion='mse', max_depth=None, max_features=None,\n",
      "           max_leaf_nodes=None, min_impurity_decrease=0.0,\n",
      "           min_impurity_split=None, min_samples_leaf=1,\n",
      "           min_samples_split=2, min_weight_fraction_leaf=0.0,\n",
      "           presort=False, random_state=None, splitter='best') R2 score: 0.89\n",
      "DecisionTreeRegressor(criterion='mse', max_depth=None, max_features=None,\n",
      "           max_leaf_nodes=None, min_impurity_decrease=0.0,\n",
      "           min_impurity_split=None, min_samples_leaf=1,\n",
      "           min_samples_split=2, min_weight_fraction_leaf=0.0,\n",
      "           presort=False, random_state=None, splitter='best') R2 score: 1.00\n"
     ]
    }
   ],
   "source": [
    "pontuacao(dtr_model, X_test, Y_test)\n",
    "pontuacao(dtr_model, X_train, Y_train)"
   ]
  },
  {
   "cell_type": "markdown",
   "metadata": {},
   "source": [
    "### Regressão Ridge"
   ]
  },
  {
   "cell_type": "code",
   "execution_count": 38,
   "metadata": {},
   "outputs": [
    {
     "data": {
      "text/plain": [
       "Ridge(alpha=1.0, copy_X=True, fit_intercept=True, max_iter=None,\n",
       "   normalize=False, random_state=None, solver='auto', tol=0.001)"
      ]
     },
     "execution_count": 38,
     "metadata": {},
     "output_type": "execute_result"
    }
   ],
   "source": [
    "lrr_model = linear_model.Ridge()\n",
    "lrr_model.fit(X_train, Y_train)"
   ]
  },
  {
   "cell_type": "markdown",
   "metadata": {},
   "source": [
    "Obténha a pontuação R2, utilizando a função ```pontuacao``` para os conjuntos de treino e de teste."
   ]
  },
  {
   "cell_type": "code",
   "execution_count": 39,
   "metadata": {},
   "outputs": [
    {
     "name": "stdout",
     "output_type": "stream",
     "text": [
      "Ridge(alpha=1.0, copy_X=True, fit_intercept=True, max_iter=None,\n",
      "   normalize=False, random_state=None, solver='auto', tol=0.001) R2 score: 0.87\n",
      "Ridge(alpha=1.0, copy_X=True, fit_intercept=True, max_iter=None,\n",
      "   normalize=False, random_state=None, solver='auto', tol=0.001) R2 score: 0.89\n"
     ]
    }
   ],
   "source": [
    "pontuacao(lrr_model, X_test, Y_test)\n",
    "pontuacao(lrr_model, X_train, Y_train)"
   ]
  },
  {
   "cell_type": "markdown",
   "metadata": {},
   "source": [
    "**Pergunta:** Nesta análise preliminar, como foi a performance de cada algoritmo? Explique os resultados e detalhe como a característica de cada algoritmo influenciou no resultado.\n",
    "\n",
    "**Resposta:** Abaixo segue os resultados através do score para a base de treino e teste de cada algoritmo.\n",
    "\n",
    "    \n",
    "\n",
    "\n",
    "|           | Regressão Linear   | Árvore de Decisão | Ridge      |\n",
    "|:----------|:------------------:|:-----------------:|:----------:|\n",
    "| R2 treino |      0.86          |      1.00         |   0.89     |\n",
    "| R2 teste  |      0.90          |     0.89          |   0.87     |\n",
    "\n",
    "\n",
    "\n",
    "\n",
    "Analisando os resultados, o algoritmo que obteve melhor performance foi o de Regressão Linear, devido a relação entre a variável dependente *(price)* com as **N** variáveis independentes da base de dados.\n",
    "\n",
    "Apesar do modelo de Árvore de Decisão obter score de 1.0, conclui-se que houve overfitting pois o modelo se ajusta muito bem aos dados, porém o modelo só servirá para a base de dados utilizada para construção. Caso seja inserido novos dados para ser predito, o modelo será impreciso em seu resultado.\n"
   ]
  },
  {
   "cell_type": "markdown",
   "metadata": {},
   "source": [
    "## Validação e Otimização do Modelo\n",
    "\n",
    "Cada algoritmo de modelo pode oferecer a possibilidade de ajustes de seus parâmetros. Tais ajustes podem contribuir para melhorar ou piorar o modelo, portanto esta fase de otimização e validação é importante entender o patamar de partida, com os valores padrões obtidos nos passos anteriores versus as otimizações.\n",
    "\n",
    "É comum que as otimizações não sejam capazes de alterar os patamares padrão.\n",
    "\n",
    "O Scikit Learn oferece uma forma simplificada de testar diversas condições de parâmetros diferentes por meio do ```GridSearchCV```. Após diversos testes é apresentado os parâmetros que obtiveram os melhores resultados."
   ]
  },
  {
   "cell_type": "markdown",
   "metadata": {},
   "source": [
    "### Regulação dos parâmetros dos modelos\n",
    "\n",
    "Analise os parâmetros possíveis de cada algortimo de regressão e crie um dicionário para ser utilizado no ```GridSearchCV```.\n",
    "O dicionário é composto pelo nome do parâmetro como chave. Seu valor será uma lista de valores que se deseja otimizar. Não deixe de revisar a [documentação](http://scikit-learn.org/stable/modules/generated/sklearn.model_selection.GridSearchCV.html)\n",
    "\n",
    "Verfique a pontuação R2 para os conjuntos de dados de treino e de teste, pois nem sempre preditores que se saem bem durante o treinamento terão a mesma performance com os dados de teste."
   ]
  },
  {
   "cell_type": "markdown",
   "metadata": {},
   "source": [
    "### Regulação do Modelo de Regressão Linear\n",
    "\n",
    "Escolha quais atributos incluir na variável ```parameters```para serem otimizados. Essa variável é um dicionário onde cada chave representa uma configuração do modelo, o valor pode ser único ou uma lista, neste caso utilize ```[]``` para incluir múltiplos valores. Como nosso problema é relacionado a regressão, utilize a pontuação R2 em ```scoring``` na configuração do ```GridSearchCV```. "
   ]
  },
  {
   "cell_type": "code",
   "execution_count": 40,
   "metadata": {},
   "outputs": [
    {
     "data": {
      "text/plain": [
       "GridSearchCV(cv=None, error_score='raise',\n",
       "       estimator=LinearRegression(copy_X=True, fit_intercept=True, n_jobs=1, normalize=False),\n",
       "       fit_params=None, iid=True, n_jobs=1,\n",
       "       param_grid=[{'copy_X': [True, False], 'n_jobs': range(1, 20), 'normalize': [True, False]}],\n",
       "       pre_dispatch='2*n_jobs', refit=True, return_train_score='warn',\n",
       "       scoring='r2', verbose=0)"
      ]
     },
     "execution_count": 40,
     "metadata": {},
     "output_type": "execute_result"
    }
   ],
   "source": [
    "from sklearn.model_selection import GridSearchCV\n",
    "        \n",
    "parameters =  [{'copy_X':[True, False],\n",
    "                'n_jobs': range(1, 20),\n",
    "                'normalize':[True, False] }]\n",
    "\n",
    "opt_model_lr = GridSearchCV(lr_model, parameters, scoring='r2')\n",
    "opt_model_lr.fit(X_train, Y_train.ravel())"
   ]
  },
  {
   "cell_type": "code",
   "execution_count": 41,
   "metadata": {},
   "outputs": [
    {
     "name": "stdout",
     "output_type": "stream",
     "text": [
      "best_index 0\n",
      "best_score 0.78\n",
      "best_params {'copy_X': True, 'n_jobs': 1, 'normalize': True}\n"
     ]
    }
   ],
   "source": [
    "print(\"best_index\", opt_model_lr.best_index_)\n",
    "print(\"best_score\", round(opt_model_lr.best_score_,2))\n",
    "print(\"best_params\", opt_model_lr.best_params_)"
   ]
  },
  {
   "cell_type": "markdown",
   "metadata": {},
   "source": [
    "Calcule as pontuações para o melhor estimador com dados de treino."
   ]
  },
  {
   "cell_type": "code",
   "execution_count": 42,
   "metadata": {},
   "outputs": [
    {
     "data": {
      "text/plain": [
       "(0.9,\n",
       " LinearRegression(copy_X=True, fit_intercept=True, n_jobs=1, normalize=True))"
      ]
     },
     "execution_count": 42,
     "metadata": {},
     "output_type": "execute_result"
    }
   ],
   "source": [
    "round(opt_model_lr.score(X_train, Y_train.ravel()),2), opt_model_lr.best_estimator_"
   ]
  },
  {
   "cell_type": "markdown",
   "metadata": {},
   "source": [
    "E também para os dados de testes."
   ]
  },
  {
   "cell_type": "code",
   "execution_count": 43,
   "metadata": {},
   "outputs": [
    {
     "data": {
      "text/plain": [
       "(0.86,\n",
       " LinearRegression(copy_X=True, fit_intercept=True, n_jobs=1, normalize=True))"
      ]
     },
     "execution_count": 43,
     "metadata": {},
     "output_type": "execute_result"
    }
   ],
   "source": [
    "round(opt_model_lr.score(X_test, Y_test.ravel()),2), opt_model_lr.best_estimator_"
   ]
  },
  {
   "cell_type": "markdown",
   "metadata": {},
   "source": [
    "### Regulação do Modelo de Regressão de Árvore de Decisão"
   ]
  },
  {
   "cell_type": "code",
   "execution_count": 44,
   "metadata": {},
   "outputs": [
    {
     "data": {
      "text/plain": [
       "GridSearchCV(cv=None, error_score='raise',\n",
       "       estimator=DecisionTreeRegressor(criterion='mse', max_depth=None, max_features=None,\n",
       "           max_leaf_nodes=None, min_impurity_decrease=0.0,\n",
       "           min_impurity_split=None, min_samples_leaf=1,\n",
       "           min_samples_split=2, min_weight_fraction_leaf=0.0,\n",
       "           presort=False, random_state=None, splitter='best'),\n",
       "       fit_params=None, iid=True, n_jobs=1,\n",
       "       param_grid=[{'splitter': ('best', 'random'), 'max_depth': range(1, 10), 'min_samples_leaf': [1, 2, 4], 'min_samples_split': range(2, 10)}],\n",
       "       pre_dispatch='2*n_jobs', refit=True, return_train_score='warn',\n",
       "       scoring='r2', verbose=0)"
      ]
     },
     "execution_count": 44,
     "metadata": {},
     "output_type": "execute_result"
    }
   ],
   "source": [
    "from sklearn.model_selection import GridSearchCV\n",
    "parameters =  [{'splitter':('best','random'),\n",
    "               'max_depth':range(1,10),\n",
    "               'min_samples_leaf':[1,2,4],\n",
    "               'min_samples_split': range(2, 10)}]\n",
    "\n",
    "opt_model_dtr = GridSearchCV(dtr_model, parameters, scoring='r2')\n",
    "opt_model_dtr.fit(X_train, Y_train.ravel())"
   ]
  },
  {
   "cell_type": "code",
   "execution_count": 45,
   "metadata": {},
   "outputs": [
    {
     "name": "stdout",
     "output_type": "stream",
     "text": [
      "best_index 290\n",
      "best_score 0.86\n",
      "best_params {'max_depth': 7, 'min_samples_leaf': 1, 'min_samples_split': 3, 'splitter': 'best'}\n"
     ]
    }
   ],
   "source": [
    "print(\"best_index\", opt_model_dtr.best_index_)\n",
    "print(\"best_score\", round(opt_model_dtr.best_score_,2))\n",
    "print(\"best_params\", opt_model_dtr.best_params_)"
   ]
  },
  {
   "cell_type": "markdown",
   "metadata": {},
   "source": [
    "Pontuação dos dados de treino."
   ]
  },
  {
   "cell_type": "code",
   "execution_count": 46,
   "metadata": {},
   "outputs": [
    {
     "name": "stdout",
     "output_type": "stream",
     "text": [
      "R2:  0.99\n"
     ]
    }
   ],
   "source": [
    "best = opt_model_dtr.best_estimator_\n",
    "print('R2: ', round(r2_score(y_pred = best.predict(X_train), y_true = Y_train),2))"
   ]
  },
  {
   "cell_type": "markdown",
   "metadata": {},
   "source": [
    "Pontuação dos dados de teste."
   ]
  },
  {
   "cell_type": "code",
   "execution_count": 47,
   "metadata": {},
   "outputs": [
    {
     "name": "stdout",
     "output_type": "stream",
     "text": [
      "R2:  0.86\n"
     ]
    }
   ],
   "source": [
    "print('R2: ', round(r2_score(y_pred = best.predict(X_test), y_true = Y_test),2))"
   ]
  },
  {
   "cell_type": "markdown",
   "metadata": {},
   "source": [
    "### Regulação do Modelo de Regressão Ridge"
   ]
  },
  {
   "cell_type": "code",
   "execution_count": 48,
   "metadata": {},
   "outputs": [
    {
     "data": {
      "text/plain": [
       "GridSearchCV(cv=None, error_score='raise',\n",
       "       estimator=Ridge(alpha=1.0, copy_X=True, fit_intercept=True, max_iter=None,\n",
       "   normalize=False, random_state=None, solver='auto', tol=0.001),\n",
       "       fit_params=None, iid=True, n_jobs=1,\n",
       "       param_grid=[{'alpha': range(1, 10), 'fit_intercept': [True, False], 'max_iter': range(0, 20), 'normalize': [True, False]}],\n",
       "       pre_dispatch='2*n_jobs', refit=True, return_train_score='warn',\n",
       "       scoring='r2', verbose=0)"
      ]
     },
     "execution_count": 48,
     "metadata": {},
     "output_type": "execute_result"
    }
   ],
   "source": [
    "parameters = [{'alpha': range(1, 10),\n",
    "               'fit_intercept': [True, False],\n",
    "               'max_iter': range(0,20),\n",
    "               'normalize': [True, False]}]\n",
    "\n",
    "\n",
    "opt_model_lrr = GridSearchCV(lrr_model, parameters, scoring='r2')\n",
    "opt_model_lrr.fit(X_train, Y_train)"
   ]
  },
  {
   "cell_type": "code",
   "execution_count": 49,
   "metadata": {},
   "outputs": [
    {
     "name": "stdout",
     "output_type": "stream",
     "text": [
      "best_index 641\n",
      "best_score 0.81\n",
      "best_params {'alpha': 9, 'fit_intercept': True, 'max_iter': 0, 'normalize': False}\n"
     ]
    }
   ],
   "source": [
    "print(\"best_index\", opt_model_lrr.best_index_)\n",
    "print(\"best_score\", round(opt_model_lrr.best_score_,2))\n",
    "print(\"best_params\", opt_model_lrr.best_params_)"
   ]
  },
  {
   "cell_type": "markdown",
   "metadata": {},
   "source": [
    "Pontuação dos dados de treino."
   ]
  },
  {
   "cell_type": "code",
   "execution_count": 50,
   "metadata": {},
   "outputs": [
    {
     "name": "stdout",
     "output_type": "stream",
     "text": [
      "R2:  0.88\n"
     ]
    }
   ],
   "source": [
    "best = opt_model_lrr.best_estimator_\n",
    "print('R2: ', round(r2_score(y_pred = best.predict(X_train), y_true = Y_train),2))"
   ]
  },
  {
   "cell_type": "markdown",
   "metadata": {},
   "source": [
    "Pontuação dos dados de teste."
   ]
  },
  {
   "cell_type": "code",
   "execution_count": 51,
   "metadata": {},
   "outputs": [
    {
     "name": "stdout",
     "output_type": "stream",
     "text": [
      "R2:  0.85\n"
     ]
    }
   ],
   "source": [
    "best = opt_model_lrr.best_estimator_\n",
    "print('R2: ', round(r2_score(y_pred = best.predict(X_test), y_true = Y_test),2))"
   ]
  },
  {
   "cell_type": "markdown",
   "metadata": {},
   "source": [
    "Sumarize na tabela abaixo os indicadores para cada um dos preditores e suas respectivas pontuações para os conjuntos de dados de treino e de testes"
   ]
  },
  {
   "cell_type": "markdown",
   "metadata": {},
   "source": [
    "|           | Regressão linear | Regressão árvore de decisão | Regressão ridge |\n",
    "|:----------|:----------------:|:---------------------------:|:---------------:|\n",
    "| R2 treino |      0.90        |     0.99                    |   0.88          |\n",
    "| R2 teste  |      0.86        |     0.86                    |   0.85          |\n"
   ]
  },
  {
   "cell_type": "markdown",
   "metadata": {},
   "source": [
    "**Pergunta:** Qual dos algoritmos de regressão obteve os melhores resultados? Quais caracaterísticas deste algoritmo podem ajudar a justificar tal resultado?\n",
    "\n",
    "\n",
    "**Resposta:** O melhor foi de Regressão Linear. As características determinantes para esse resultados são:\n",
    "- Forte correlação entre a variável dependente com as variáveis independentes;\n",
    "- Ao realizar a alteração no valor de uma varíavel (dita independente) provoca alterações no valor da outra variável (dita dependente)\n",
    "- Relação funcional entre as variáveis, com mínimo de erro ;\n"
   ]
  },
  {
   "cell_type": "markdown",
   "metadata": {},
   "source": [
    "### Implementação do algoritmo otimizado\n",
    "\n",
    "Configure o classificador selecionado com os parâmetros otimizados obtidos anteriormente."
   ]
  },
  {
   "cell_type": "code",
   "execution_count": 52,
   "metadata": {},
   "outputs": [],
   "source": [
    "lr_model = linear_model.LinearRegression(copy_X=True, n_jobs=1, normalize=True)\n",
    "lr_model.fit(X_train, Y_train.ravel())\n",
    "y_pred = lr_model.predict(X_test)\n"
   ]
  },
  {
   "cell_type": "markdown",
   "metadata": {},
   "source": [
    "### Teste com exemplos\n",
    "\n",
    "Utilize 3 exemplos criados por você mesmo para obter um valor de venda de veículo. Escolha caracaterísticas que demonstrem como o regressor deveria se comportar. Para tanto, imagine exemplos dos quais você espera um valor baixo, mediano e alto do preço do veículo baseado nos atributos escolhidos\n",
    "\n",
    "\n",
    "\n",
    "## Exemplo base 'TREINO'"
   ]
  },
  {
   "cell_type": "code",
   "execution_count": 53,
   "metadata": {},
   "outputs": [
    {
     "name": "stdout",
     "output_type": "stream",
     "text": [
      "[-0.12, 0.55, 0.88]\n"
     ]
    }
   ],
   "source": [
    "#Lembre-se que os atributos são os armazenados na lista feature_col_names\n",
    "\n",
    "#rotação por minuto\n",
    "TRAINconsumoPorGalaoNaEstrada_x_Preco = Y_train.corr(X_train['peak_rpm'])\n",
    "\n",
    "#diâmetro do cilindro\n",
    "TRAINlength_x_Preco = Y_train.corr(X_train['bore'])\n",
    "\n",
    "\n",
    "#tamanho do motor\n",
    "TRAINengineSize_x_Preco = Y_train.corr(X_train['engine_size'])\n",
    "\n",
    "\n",
    "print([round(TRAINconsumoPorGalaoNaEstrada_x_Preco,2), round(TRAINlength_x_Preco,2), round(TRAINengineSize_x_Preco,2)])"
   ]
  },
  {
   "cell_type": "code",
   "execution_count": 54,
   "metadata": {},
   "outputs": [
    {
     "data": {
      "text/plain": [
       "baixo     -0.12\n",
       "mediano    0.55\n",
       "alto       0.88\n",
       "dtype: float64"
      ]
     },
     "execution_count": 54,
     "metadata": {},
     "output_type": "execute_result"
    }
   ],
   "source": [
    "serie_1 = pd.Series([round(TRAINconsumoPorGalaoNaEstrada_x_Preco,2), round(TRAINlength_x_Preco,2), round(TRAINengineSize_x_Preco,2)], \n",
    "                    index=['baixo', 'mediano', 'alto'])\n",
    "\n",
    "\n",
    "serie_1"
   ]
  },
  {
   "cell_type": "markdown",
   "metadata": {},
   "source": [
    "## Exemplo base 'TESTE'"
   ]
  },
  {
   "cell_type": "code",
   "execution_count": 55,
   "metadata": {},
   "outputs": [
    {
     "name": "stdout",
     "output_type": "stream",
     "text": [
      "[-0.02, 0.53, 0.86]\n"
     ]
    }
   ],
   "source": [
    "#Lembre-se que os atributos são os armazenados na lista feature_col_names\n",
    "\n",
    "#rotação por minuto\n",
    "consumoPorGalaoNaEstrada_x_Preco = Y_test.corr(X_test['peak_rpm'])\n",
    "\n",
    "#diâmetro do cilindro\n",
    "length_x_Preco = Y_test.corr(X_test['bore'])\n",
    "\n",
    "\n",
    "#peso do veículo\n",
    "engineSize_x_Preco = Y_test.corr(X_test['engine_size'])\n",
    "\n",
    "\n",
    "print([round(consumoPorGalaoNaEstrada_x_Preco,2), round(length_x_Preco,2), round(engineSize_x_Preco,2)])\n"
   ]
  },
  {
   "cell_type": "code",
   "execution_count": 56,
   "metadata": {},
   "outputs": [
    {
     "data": {
      "text/plain": [
       "baixo     -0.02\n",
       "mediano    0.53\n",
       "alto       0.86\n",
       "dtype: float64"
      ]
     },
     "execution_count": 56,
     "metadata": {},
     "output_type": "execute_result"
    }
   ],
   "source": [
    "#IMPLEMENTAÇÃO\n",
    "#A entrada de dados deve ser uma matriz do seguinte formato, note que há dois colchetes pois é uma \n",
    "#matriz dentro de outra matriz [[a,b,c,d,e]]\n",
    "\n",
    "serie_1 = pd.Series([round(consumoPorGalaoNaEstrada_x_Preco,2), round(length_x_Preco,2), round(engineSize_x_Preco,2)], \n",
    "                    index=['baixo', 'mediano', 'alto'])\n",
    "\n",
    "serie_1"
   ]
  },
  {
   "cell_type": "markdown",
   "metadata": {},
   "source": [
    "## Consumo por galão na estrada (highway_mpg) x Preço \n",
    "\n",
    "Carros que possuem alto consumo de combustível na estrada tendem a ter um preço menor, pois esse fator influencia criticamente no momento da Compra/Venda do veículo.\n",
    "\n",
    "\n",
    "Com os preços dos combustíveis cada vez mais altos, a busca por veículos que tem maior consumo de combustível diminui e com isso abre o mercado para carros populares com o menor preço e mais acessíveis à população."
   ]
  },
  {
   "cell_type": "markdown",
   "metadata": {},
   "source": [
    "## Diâmetro do cilindro x Preço\n",
    "\n",
    "O maior número de cilindros resulta em menor cilindrada unitária, e reflete-se nas seguintes vantagens:\n",
    "\n",
    "* A partir da rotação máxima do motor, obtém aumento da potência. Isto ocorre porque o curso do pistão é menor e, em consequência, tem-se um menor tempo de deslocamento entre o ponto morto superior (PMS) e o ponto morto inferior (PMI).\n",
    "\n",
    "* Melhor rendimento térmico. Com menor diâmetro dos cilindros a quantidade de combustível a ser queimada diminui, resultando em queima mais eficiente.\n",
    "\n",
    "* Melhor possibilidade de refrigeração, já que o volume de um único cilindro é menor e as galerias de refrigeração podem ser melhor distribuídas\n",
    "\n",
    "* Nestes motores tem-se um melhor equilíbrio das massas e menos vibrações, o que aumenta a vida útil do motor, além de transmitir mais conforto aos ocupantes do veículo.\n",
    "\n",
    "Por outro lado, os motores com maior número de cilindros têm suas desvantagens:\n",
    "\n",
    "* Aumento do comprimento da árvore de manivelas (virabrequim); com isto os problemas com vibrações torcionais são mais acentuados.\n",
    "\n",
    "* Elevação do custo de produção, visto que a construção destes motores é mais complexa e exige maior número de peças.\n",
    "\n",
    "* Em muitos casos estes motores têm volume e peso maiores que seu correspondente de mesma cilindrada e menor número de cilindros.\n",
    "\n",
    "* Aumento do custo de manutenção por sua complexidade\n",
    "\n"
   ]
  },
  {
   "cell_type": "markdown",
   "metadata": {},
   "source": [
    "# Rotação por Minuto  x Preço \n",
    "\n",
    "\n",
    "O Pico de rotação tem uma alta relação com o torque, importante na escolha não só de veículos leves, mas principalmente de veículos de transporte, como caminhões e ônibus.\n",
    "\n",
    "Nem torque nem potência são constantes: eles variam de acordo com a rotação do motor. Se o uso do veículo for urbano, procure escolher motores que possuam seus picos de torque com baixas rotações (entre 1.500 e 2.500 rpm, rotações por minuto, rpm). Dessa forma, você terá um carro \"mais esperto\" em baixas velocidades.\n"
   ]
  },
  {
   "cell_type": "markdown",
   "metadata": {},
   "source": [
    "## Conclusões finais\n",
    "\n",
    "\n",
    "\n",
    "O trabalho apresentou de forma simplificada o __Workflow de um modelo preditivo__ .\n",
    "\n",
    "A fase de análise exploratória (descritiva) dos dados, exigiu 80% do tempo do trabalho utilizando métricas e técnicas estatísticas para entender e explicar como os dados são e como devemos utilizá-los no futuro. Embora a previsão do preço do carro não possa ser pressuposta com exatidão absoluta, podemos chegar em um nível considerável de confiabilidade, incluindo cenários hipotéticos.\n",
    "Após a análise descritiva, avaliou-se alguns algoritmos de regressão através da comparação de performance e comportamento de cada um referente ao objetivo proposto, previsão de preço do automóvel.\n",
    "\n",
    " O algoritmo de melhor precisão e aplicabilidade foi o de Regressão Linear obtendo, aproximadamente, 86% de precisão e identificando as principais variáveis que influenciam a variação do preço.\n"
   ]
  },
  {
   "cell_type": "markdown",
   "metadata": {},
   "source": [
    "**Pergunta:** Seu modelo conseguiu prever adequadamente novos dados a partir do treinamento dos dados de teste? O que você faria diferente?\n",
    "\n",
    "**Resposta:** Sim os valores retornados na base de teste foram semelhantes aos valores conhecidos na base de treino, Para tentar melhorar o modelo poderíamos modificar as propriedades do algoritmo de regressão linear ou então tentar algum algoritmo diferente."
   ]
  },
  {
   "cell_type": "markdown",
   "metadata": {},
   "source": [
    "**Pergunta:**: Em que outras áreas você poderia aplicar estes tipos de algoritmos de regressão de aprendizado de máquina?\n",
    "\n",
    "**Resposta**: Os algoritmos de regressão podem ser aplicados no acompanhamento da taxa de contaminação de um rio, na predição da porcentagem de mortes para determinada doença, no mercado financeiro quanto a previsão de ações, nas possíveis mudanças no preço de imóveis, ou então no preço x quantidade de camisas vendidas,, entre outros.\n",
    "Os Algoritmos de regressão podem ser utilizados quando há o desejo de predizer uma tendência ou mesmo prever uma demanda,  através do seu histórico de dados para projeções futuras tornando-se possível para quem estiver utilizando este algoritmo, planejar adequadamente sua ações perante o mercado.\n"
   ]
  }
 ],
 "metadata": {
  "kernelspec": {
   "display_name": "Python 3",
   "language": "python",
   "name": "python3"
  },
  "language_info": {
   "codemirror_mode": {
    "name": "ipython",
    "version": 3
   },
   "file_extension": ".py",
   "mimetype": "text/x-python",
   "name": "python",
   "nbconvert_exporter": "python",
   "pygments_lexer": "ipython3",
   "version": "3.6.5"
  }
 },
 "nbformat": 4,
 "nbformat_minor": 2
}
